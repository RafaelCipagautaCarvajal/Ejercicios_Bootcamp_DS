{
 "cells": [
  {
   "cell_type": "markdown",
   "metadata": {},
   "source": [
    "# **Actividad 2 - Bootcamp Datascience**\n",
    "### **Presentado por: Rafael Cipagauta Carvajal**\n",
    "### **Contexto:**\n",
    "La siguiente actividad fue realizada con información de los datasets obtenidos en el Ejercicio 1, esta, consta de la información de unos préstamos depositados por la operación de México. El objetivo principal del análisis es determinar si existe alguna relación entre la información de ubicación de los solicitantes, edad, o información laboral y el comportamiento de pago de estas obligaciones.\n",
    "### **Variables de interés:**\n",
    "Dentro de las variables que encontraremos dentro del dataset se podrán encontrar:\n",
    "\n",
    "**- Código Formulario:** Es la identificación del documento que diligenció el cliente al momento de su solicitud.\n",
    "\n",
    "**-\tCodigo Préstamo:** Es la identificación de cada préstamo depositado.\n",
    "\n",
    "**-\tFecha de creación:** Fecha de creación del formulario.\n",
    "\n",
    "**-\tAlcaldia/Municipio, Colonia, Ciudad MX, Calle, Codigo Postal:** Información que diligenció el solicitante que nos indica en qué parte de Mexico habita.\n",
    "\n",
    "**-\tIngreso Neto, Listed Weeks, ScoreFisValor, Con trabajo actual, Total jobs, Year Since Last Job:** Es información del cliente acerca de su situación laboral, es importante ya que nos puede permitir evaluar el nivel de riesgo del solicitante.\n",
    "\n",
    "**-\tFecha de creación del préstamo:** Fecha en la que se creó el préstamo.\n",
    "\n",
    "**-Fecha de nacimiento, Edad cliente:** Información del cliente referente a edad.\n",
    "\n",
    "**-\tMora máxima, Rango Mora, Estatus préstamo:** Información del préstamo, sus días de mora, en qué rango se encuentran estos días y su estado actual (pagado, pendiente, o contracargo).\n"
   ]
  },
  {
   "cell_type": "code",
   "execution_count": 1,
   "metadata": {},
   "outputs": [
    {
     "name": "stdout",
     "output_type": "stream",
     "text": [
      "Defaulting to user installation because normal site-packages is not writeable\n",
      "Requirement already satisfied: seaborn in c:\\users\\rafael\\appdata\\local\\packages\\pythonsoftwarefoundation.python.3.12_qbz5n2kfra8p0\\localcache\\local-packages\\python312\\site-packages (0.13.2)\n",
      "Requirement already satisfied: numpy!=1.24.0,>=1.20 in c:\\users\\rafael\\appdata\\local\\packages\\pythonsoftwarefoundation.python.3.12_qbz5n2kfra8p0\\localcache\\local-packages\\python312\\site-packages (from seaborn) (2.2.0)\n",
      "Requirement already satisfied: pandas>=1.2 in c:\\users\\rafael\\appdata\\local\\packages\\pythonsoftwarefoundation.python.3.12_qbz5n2kfra8p0\\localcache\\local-packages\\python312\\site-packages (from seaborn) (2.2.3)\n",
      "Requirement already satisfied: matplotlib!=3.6.1,>=3.4 in c:\\users\\rafael\\appdata\\local\\packages\\pythonsoftwarefoundation.python.3.12_qbz5n2kfra8p0\\localcache\\local-packages\\python312\\site-packages (from seaborn) (3.10.0)\n",
      "Requirement already satisfied: contourpy>=1.0.1 in c:\\users\\rafael\\appdata\\local\\packages\\pythonsoftwarefoundation.python.3.12_qbz5n2kfra8p0\\localcache\\local-packages\\python312\\site-packages (from matplotlib!=3.6.1,>=3.4->seaborn) (1.3.1)\n",
      "Requirement already satisfied: cycler>=0.10 in c:\\users\\rafael\\appdata\\local\\packages\\pythonsoftwarefoundation.python.3.12_qbz5n2kfra8p0\\localcache\\local-packages\\python312\\site-packages (from matplotlib!=3.6.1,>=3.4->seaborn) (0.12.1)\n",
      "Requirement already satisfied: fonttools>=4.22.0 in c:\\users\\rafael\\appdata\\local\\packages\\pythonsoftwarefoundation.python.3.12_qbz5n2kfra8p0\\localcache\\local-packages\\python312\\site-packages (from matplotlib!=3.6.1,>=3.4->seaborn) (4.55.3)\n",
      "Requirement already satisfied: kiwisolver>=1.3.1 in c:\\users\\rafael\\appdata\\local\\packages\\pythonsoftwarefoundation.python.3.12_qbz5n2kfra8p0\\localcache\\local-packages\\python312\\site-packages (from matplotlib!=3.6.1,>=3.4->seaborn) (1.4.8)\n",
      "Requirement already satisfied: packaging>=20.0 in c:\\users\\rafael\\appdata\\local\\packages\\pythonsoftwarefoundation.python.3.12_qbz5n2kfra8p0\\localcache\\local-packages\\python312\\site-packages (from matplotlib!=3.6.1,>=3.4->seaborn) (24.2)\n",
      "Requirement already satisfied: pillow>=8 in c:\\users\\rafael\\appdata\\local\\packages\\pythonsoftwarefoundation.python.3.12_qbz5n2kfra8p0\\localcache\\local-packages\\python312\\site-packages (from matplotlib!=3.6.1,>=3.4->seaborn) (11.1.0)\n",
      "Requirement already satisfied: pyparsing>=2.3.1 in c:\\users\\rafael\\appdata\\local\\packages\\pythonsoftwarefoundation.python.3.12_qbz5n2kfra8p0\\localcache\\local-packages\\python312\\site-packages (from matplotlib!=3.6.1,>=3.4->seaborn) (3.2.1)\n",
      "Requirement already satisfied: python-dateutil>=2.7 in c:\\users\\rafael\\appdata\\local\\packages\\pythonsoftwarefoundation.python.3.12_qbz5n2kfra8p0\\localcache\\local-packages\\python312\\site-packages (from matplotlib!=3.6.1,>=3.4->seaborn) (2.9.0.post0)\n",
      "Requirement already satisfied: pytz>=2020.1 in c:\\users\\rafael\\appdata\\local\\packages\\pythonsoftwarefoundation.python.3.12_qbz5n2kfra8p0\\localcache\\local-packages\\python312\\site-packages (from pandas>=1.2->seaborn) (2024.2)\n",
      "Requirement already satisfied: tzdata>=2022.7 in c:\\users\\rafael\\appdata\\local\\packages\\pythonsoftwarefoundation.python.3.12_qbz5n2kfra8p0\\localcache\\local-packages\\python312\\site-packages (from pandas>=1.2->seaborn) (2024.2)\n",
      "Requirement already satisfied: six>=1.5 in c:\\users\\rafael\\appdata\\local\\packages\\pythonsoftwarefoundation.python.3.12_qbz5n2kfra8p0\\localcache\\local-packages\\python312\\site-packages (from python-dateutil>=2.7->matplotlib!=3.6.1,>=3.4->seaborn) (1.17.0)\n"
     ]
    }
   ],
   "source": [
    "!pip install seaborn"
   ]
  },
  {
   "cell_type": "code",
   "execution_count": 2,
   "metadata": {},
   "outputs": [],
   "source": [
    "import pandas as pd\n",
    "import matplotlib.pyplot as plt\n",
    "import seaborn as sns\n",
    "import numpy as np"
   ]
  },
  {
   "cell_type": "code",
   "execution_count": 3,
   "metadata": {},
   "outputs": [
    {
     "data": {
      "text/plain": [
       "'c:\\\\Users\\\\Rafael\\\\Desktop\\\\Bootcamp Data Science - BIT\\\\Ejercicios_Bootcamp_DS\\\\E2'"
      ]
     },
     "execution_count": 3,
     "metadata": {},
     "output_type": "execute_result"
    }
   ],
   "source": [
    "%pwd"
   ]
  },
  {
   "cell_type": "code",
   "execution_count": 4,
   "metadata": {},
   "outputs": [
    {
     "data": {
      "text/html": [
       "<div>\n",
       "<style scoped>\n",
       "    .dataframe tbody tr th:only-of-type {\n",
       "        vertical-align: middle;\n",
       "    }\n",
       "\n",
       "    .dataframe tbody tr th {\n",
       "        vertical-align: top;\n",
       "    }\n",
       "\n",
       "    .dataframe thead th {\n",
       "        text-align: right;\n",
       "    }\n",
       "</style>\n",
       "<table border=\"1\" class=\"dataframe\">\n",
       "  <thead>\n",
       "    <tr style=\"text-align: right;\">\n",
       "      <th></th>\n",
       "      <th>Código Formulario</th>\n",
       "      <th>Codigo Prestamo</th>\n",
       "      <th>Fecha de creación</th>\n",
       "      <th>Alcaldia/Municipio</th>\n",
       "      <th>Colonia</th>\n",
       "      <th>Ciudad MX</th>\n",
       "      <th>Calle</th>\n",
       "      <th>Codigo Postal</th>\n",
       "      <th>Ingreso Neto</th>\n",
       "      <th>Trully Listed Weeks</th>\n",
       "      <th>ScoreFisValor</th>\n",
       "      <th>Con trabajo actual</th>\n",
       "      <th>Total jobs</th>\n",
       "      <th>Year Since Last Job</th>\n",
       "      <th>Fecha de creación del préstamo</th>\n",
       "      <th>Fecha de nacimiento</th>\n",
       "      <th>Edad cliente</th>\n",
       "      <th>Mora máxima</th>\n",
       "      <th>Rango Mora</th>\n",
       "      <th>Estatus préstamo</th>\n",
       "    </tr>\n",
       "  </thead>\n",
       "  <tbody>\n",
       "    <tr>\n",
       "      <th>0</th>\n",
       "      <td>FORM-392881</td>\n",
       "      <td>P-034842</td>\n",
       "      <td>7/12/2024</td>\n",
       "      <td>TECÁMAC</td>\n",
       "      <td>HUEYOTENCO</td>\n",
       "      <td>MÉXICO</td>\n",
       "      <td>Michoacan</td>\n",
       "      <td>55749.0</td>\n",
       "      <td>MXN50.328,01</td>\n",
       "      <td>NaN</td>\n",
       "      <td>539.0</td>\n",
       "      <td>NaN</td>\n",
       "      <td>NaN</td>\n",
       "      <td>NaN</td>\n",
       "      <td>7/12/2024</td>\n",
       "      <td>25/10/1992</td>\n",
       "      <td>32</td>\n",
       "      <td>-30</td>\n",
       "      <td>Sin mora</td>\n",
       "      <td>Pendiente</td>\n",
       "    </tr>\n",
       "    <tr>\n",
       "      <th>1</th>\n",
       "      <td>FORM-392857</td>\n",
       "      <td>P-034840</td>\n",
       "      <td>7/12/2024</td>\n",
       "      <td>CUAUHTÉMOC</td>\n",
       "      <td>EX-HIPÓDROMO DE PERALVILLO</td>\n",
       "      <td>CIUDAD DE MÉXICO</td>\n",
       "      <td>Enrique Granados 151A</td>\n",
       "      <td>6250.0</td>\n",
       "      <td>MXN22.461,92</td>\n",
       "      <td>NaN</td>\n",
       "      <td>NaN</td>\n",
       "      <td>NaN</td>\n",
       "      <td>NaN</td>\n",
       "      <td>NaN</td>\n",
       "      <td>7/12/2024</td>\n",
       "      <td>5/07/1989</td>\n",
       "      <td>35</td>\n",
       "      <td>-30</td>\n",
       "      <td>Sin mora</td>\n",
       "      <td>Pendiente</td>\n",
       "    </tr>\n",
       "    <tr>\n",
       "      <th>2</th>\n",
       "      <td>FORM-392873</td>\n",
       "      <td>P-034841</td>\n",
       "      <td>7/12/2024</td>\n",
       "      <td>ETCHOJOA</td>\n",
       "      <td>EL CRUCERO</td>\n",
       "      <td>SONORA</td>\n",
       "      <td>Miguel hidalgo 233</td>\n",
       "      <td>85280.0</td>\n",
       "      <td>MXN9.342,84</td>\n",
       "      <td>NaN</td>\n",
       "      <td>NaN</td>\n",
       "      <td>NaN</td>\n",
       "      <td>NaN</td>\n",
       "      <td>NaN</td>\n",
       "      <td>7/12/2024</td>\n",
       "      <td>17/04/1995</td>\n",
       "      <td>29</td>\n",
       "      <td>-30</td>\n",
       "      <td>Sin mora</td>\n",
       "      <td>Pendiente</td>\n",
       "    </tr>\n",
       "    <tr>\n",
       "      <th>3</th>\n",
       "      <td>FORM-392928</td>\n",
       "      <td>P-034845</td>\n",
       "      <td>7/12/2024</td>\n",
       "      <td>JIUTEPEC</td>\n",
       "      <td>SAN FRANCISCO TEXCALPA</td>\n",
       "      <td>MORELOS</td>\n",
       "      <td>Naranjo mzna 21 lote 28</td>\n",
       "      <td>62573.0</td>\n",
       "      <td>MXN22.900,28</td>\n",
       "      <td>NaN</td>\n",
       "      <td>595.0</td>\n",
       "      <td>NaN</td>\n",
       "      <td>NaN</td>\n",
       "      <td>NaN</td>\n",
       "      <td>7/12/2024</td>\n",
       "      <td>24/02/1977</td>\n",
       "      <td>47</td>\n",
       "      <td>-30</td>\n",
       "      <td>Sin mora</td>\n",
       "      <td>Pendiente</td>\n",
       "    </tr>\n",
       "    <tr>\n",
       "      <th>4</th>\n",
       "      <td>FORM-392917</td>\n",
       "      <td>P-034843</td>\n",
       "      <td>7/12/2024</td>\n",
       "      <td>NAUCALPAN DE JUÁREZ</td>\n",
       "      <td>SAN BARTOLO NAUCALPAN (NAUCALPAN CENTRO)</td>\n",
       "      <td>MÉXICO</td>\n",
       "      <td>Avenida Gustavo Baz #31</td>\n",
       "      <td>53000.0</td>\n",
       "      <td>MXN7.038,72</td>\n",
       "      <td>NaN</td>\n",
       "      <td>NaN</td>\n",
       "      <td>NaN</td>\n",
       "      <td>NaN</td>\n",
       "      <td>NaN</td>\n",
       "      <td>7/12/2024</td>\n",
       "      <td>15/11/1983</td>\n",
       "      <td>41</td>\n",
       "      <td>-30</td>\n",
       "      <td>Sin mora</td>\n",
       "      <td>Pendiente</td>\n",
       "    </tr>\n",
       "  </tbody>\n",
       "</table>\n",
       "</div>"
      ],
      "text/plain": [
       "  Código Formulario Codigo Prestamo Fecha de creación   Alcaldia/Municipio  \\\n",
       "0       FORM-392881        P-034842         7/12/2024              TECÁMAC   \n",
       "1       FORM-392857        P-034840         7/12/2024           CUAUHTÉMOC   \n",
       "2       FORM-392873        P-034841         7/12/2024             ETCHOJOA   \n",
       "3       FORM-392928        P-034845         7/12/2024             JIUTEPEC   \n",
       "4       FORM-392917        P-034843         7/12/2024  NAUCALPAN DE JUÁREZ   \n",
       "\n",
       "                                    Colonia         Ciudad MX  \\\n",
       "0                                HUEYOTENCO            MÉXICO   \n",
       "1                EX-HIPÓDROMO DE PERALVILLO  CIUDAD DE MÉXICO   \n",
       "2                                EL CRUCERO            SONORA   \n",
       "3                    SAN FRANCISCO TEXCALPA           MORELOS   \n",
       "4  SAN BARTOLO NAUCALPAN (NAUCALPAN CENTRO)            MÉXICO   \n",
       "\n",
       "                     Calle  Codigo Postal  Ingreso Neto  Trully Listed Weeks  \\\n",
       "0                Michoacan        55749.0  MXN50.328,01                  NaN   \n",
       "1    Enrique Granados 151A         6250.0  MXN22.461,92                  NaN   \n",
       "2       Miguel hidalgo 233        85280.0   MXN9.342,84                  NaN   \n",
       "3  Naranjo mzna 21 lote 28        62573.0  MXN22.900,28                  NaN   \n",
       "4  Avenida Gustavo Baz #31        53000.0   MXN7.038,72                  NaN   \n",
       "\n",
       "   ScoreFisValor Con trabajo actual  Total jobs  Year Since Last Job  \\\n",
       "0          539.0                NaN         NaN                  NaN   \n",
       "1            NaN                NaN         NaN                  NaN   \n",
       "2            NaN                NaN         NaN                  NaN   \n",
       "3          595.0                NaN         NaN                  NaN   \n",
       "4            NaN                NaN         NaN                  NaN   \n",
       "\n",
       "  Fecha de creación del préstamo Fecha de nacimiento Edad cliente  \\\n",
       "0                      7/12/2024          25/10/1992           32   \n",
       "1                      7/12/2024           5/07/1989           35   \n",
       "2                      7/12/2024          17/04/1995           29   \n",
       "3                      7/12/2024          24/02/1977           47   \n",
       "4                      7/12/2024          15/11/1983           41   \n",
       "\n",
       "   Mora máxima Rango Mora Estatus préstamo  \n",
       "0          -30   Sin mora        Pendiente  \n",
       "1          -30   Sin mora        Pendiente  \n",
       "2          -30   Sin mora        Pendiente  \n",
       "3          -30   Sin mora        Pendiente  \n",
       "4          -30   Sin mora        Pendiente  "
      ]
     },
     "execution_count": 4,
     "metadata": {},
     "output_type": "execute_result"
    }
   ],
   "source": [
    "ruta=\"c:\\\\Users\\\\Rafael\\\\Desktop\\\\Bootcamp Data Science - BIT\\\\Ejercicios_Bootcamp_DS\\\\E1\\\\\"\n",
    "tabla=pd.read_csv(ruta+'Dataset Bootcamp_Final.csv',sep=';',encoding='utf-8')\n",
    "tabla.head()"
   ]
  },
  {
   "cell_type": "code",
   "execution_count": 5,
   "metadata": {},
   "outputs": [],
   "source": [
    "tabla['Fecha de creación'] = pd.to_datetime(tabla['Fecha de creación'], format='%d/%m/%Y')"
   ]
  },
  {
   "cell_type": "code",
   "execution_count": 6,
   "metadata": {},
   "outputs": [
    {
     "name": "stdout",
     "output_type": "stream",
     "text": [
      "<class 'pandas.core.frame.DataFrame'>\n",
      "RangeIndex: 31167 entries, 0 to 31166\n",
      "Data columns (total 20 columns):\n",
      " #   Column                          Non-Null Count  Dtype         \n",
      "---  ------                          --------------  -----         \n",
      " 0   Código Formulario               31167 non-null  object        \n",
      " 1   Codigo Prestamo                 31167 non-null  object        \n",
      " 2   Fecha de creación               31167 non-null  datetime64[ns]\n",
      " 3   Alcaldia/Municipio              31165 non-null  object        \n",
      " 4   Colonia                         31165 non-null  object        \n",
      " 5   Ciudad MX                       31161 non-null  object        \n",
      " 6   Calle                           31165 non-null  object        \n",
      " 7   Codigo Postal                   31165 non-null  float64       \n",
      " 8   Ingreso Neto                    30922 non-null  object        \n",
      " 9   Trully Listed Weeks             5477 non-null   float64       \n",
      " 10  ScoreFisValor                   15791 non-null  float64       \n",
      " 11  Con trabajo actual              17772 non-null  object        \n",
      " 12  Total jobs                      5477 non-null   float64       \n",
      " 13  Year Since Last Job             5261 non-null   float64       \n",
      " 14  Fecha de creación del préstamo  31167 non-null  object        \n",
      " 15  Fecha de nacimiento             31167 non-null  object        \n",
      " 16  Edad cliente                    31167 non-null  object        \n",
      " 17  Mora máxima                     31167 non-null  int64         \n",
      " 18  Rango Mora                      31167 non-null  object        \n",
      " 19  Estatus préstamo                31167 non-null  object        \n",
      "dtypes: datetime64[ns](1), float64(5), int64(1), object(13)\n",
      "memory usage: 4.8+ MB\n"
     ]
    }
   ],
   "source": [
    "tabla.info()"
   ]
  },
  {
   "cell_type": "markdown",
   "metadata": {},
   "source": [
    "Con ayuda de **Matplotlib** construiremos una tabla de frecuencias para ver la repartición por Estado de los préstamos."
   ]
  },
  {
   "cell_type": "code",
   "execution_count": 7,
   "metadata": {},
   "outputs": [
    {
     "data": {
      "text/plain": [
       "<Axes: title={'center': 'Frecuencia Estados'}, xlabel='Estado', ylabel='Frecuencia'>"
      ]
     },
     "execution_count": 7,
     "metadata": {},
     "output_type": "execute_result"
    },
    {
     "data": {
      "image/png": "[encoded data removed]",
      "text/plain": [
       "<Figure size 600x400 with 1 Axes>"
      ]
     },
     "metadata": {},
     "output_type": "display_data"
    }
   ],
   "source": [
    "tabla['Ciudad MX'].value_counts()[0:100].plot(kind='bar',figsize=(6,4),xlabel='Estado',ylabel='Frecuencia',title='Frecuencia Estados')"
   ]
  },
  {
   "cell_type": "code",
   "execution_count": 8,
   "metadata": {},
   "outputs": [],
   "source": [
    "tabla['Ingreso Neto Numérico'] = (\n",
    "    tabla['Ingreso Neto']\n",
    "    .str.replace('MXN', '', regex=False)  # Elimina 'MXN'\n",
    "    .str.replace('.', '', regex=False)   # Elimina los puntos\n",
    "    .str.replace(',', '.', regex=False)  # Cambia comas por puntos\n",
    "    .astype(float)                       # Convierte a float\n",
    ")"
   ]
  },
  {
   "cell_type": "markdown",
   "metadata": {},
   "source": [
    "Utilizando seaborn crearemos la primera gráfica que mostrará el comportamiento de la variable **Ingreso Neto Numérico** para determinar su distribución:"
   ]
  },
  {
   "cell_type": "code",
   "execution_count": 9,
   "metadata": {},
   "outputs": [
    {
     "data": {
      "text/plain": [
       "<Axes: xlabel='Ingreso Neto Numérico', ylabel='Density'>"
      ]
     },
     "execution_count": 9,
     "metadata": {},
     "output_type": "execute_result"
    },
    {
     "data": {
      "image/png": "[encoded data removed]",
      "text/plain": [
       "<Figure size 640x480 with 1 Axes>"
      ]
     },
     "metadata": {},
     "output_type": "display_data"
    }
   ],
   "source": [
    "sns.kdeplot(data=tabla, x='Ingreso Neto Numérico')"
   ]
  },
  {
   "cell_type": "markdown",
   "metadata": {},
   "source": [
    "Ahora, utilizando seaborn crearemos un diagrama de caja y bigotes también sobre la variable **Ingreso Neto Numérico** para determinar su concentración y valores atípicos para quitarlos más adelante:"
   ]
  },
  {
   "cell_type": "code",
   "execution_count": 10,
   "metadata": {},
   "outputs": [
    {
     "data": {
      "text/plain": [
       "<seaborn.axisgrid.FacetGrid at 0x1b8560e4f50>"
      ]
     },
     "execution_count": 10,
     "metadata": {},
     "output_type": "execute_result"
    },
    {
     "data": {
      "image/png": "[encoded data removed]",
      "text/plain": [
       "<Figure size 511.111x500 with 1 Axes>"
      ]
     },
     "metadata": {},
     "output_type": "display_data"
    }
   ],
   "source": [
    "sns.catplot(data=tabla, x='Estatus préstamo',y='Ingreso Neto Numérico',kind='box')"
   ]
  },
  {
   "cell_type": "code",
   "execution_count": 11,
   "metadata": {},
   "outputs": [
    {
     "data": {
      "text/plain": [
       "Ingreso Neto Numérico\n",
       "7500.00     6628\n",
       "5255.00      644\n",
       "6791.20      369\n",
       "5659.00      297\n",
       "6225.44      282\n",
       "            ... \n",
       "11172.00       1\n",
       "10047.00       1\n",
       "10780.00       1\n",
       "6950.00        1\n",
       "21344.00       1\n",
       "Name: count, Length: 10127, dtype: int64"
      ]
     },
     "execution_count": 11,
     "metadata": {},
     "output_type": "execute_result"
    }
   ],
   "source": [
    "tabla['Ingreso Neto Numérico'].value_counts()"
   ]
  },
  {
   "cell_type": "code",
   "execution_count": 12,
   "metadata": {},
   "outputs": [
    {
     "data": {
      "text/plain": [
       "count     30922.000000\n",
       "mean      11347.067200\n",
       "std        9608.698768\n",
       "min           0.000000\n",
       "25%        7035.340000\n",
       "50%        7500.000000\n",
       "75%       12139.000000\n",
       "max      576488.120000\n",
       "Name: Ingreso Neto Numérico, dtype: float64"
      ]
     },
     "execution_count": 12,
     "metadata": {},
     "output_type": "execute_result"
    }
   ],
   "source": [
    "tabla['Ingreso Neto Numérico'].describe()"
   ]
  },
  {
   "cell_type": "markdown",
   "metadata": {},
   "source": [
    "En este punto filtramos la data para solo los ingresos netos que sean inferiores a MXN 80.000 ya que tenemos 5 registros (atipicos) que superan este valor, que posiblemente no sean correctos y afectan a los cálculos de promedio hechos más adelante."
   ]
  },
  {
   "cell_type": "code",
   "execution_count": 13,
   "metadata": {},
   "outputs": [],
   "source": [
    "#fecha_filtro = '2024-06-01'\n",
    "#tabla = tabla[tabla['Fecha de creación'] < fecha_filtro]\n",
    "ingresos_filtro = 80000\n",
    "tabla2 = tabla[tabla['Ingreso Neto Numérico'] >= ingresos_filtro]\n",
    "tabla = tabla[tabla['Ingreso Neto Numérico'] < ingresos_filtro]"
   ]
  },
  {
   "cell_type": "code",
   "execution_count": 14,
   "metadata": {},
   "outputs": [
    {
     "data": {
      "text/plain": [
       "Ingreso Neto Numérico\n",
       "85789.58     2\n",
       "95011.29     1\n",
       "576488.12    1\n",
       "173312.88    1\n",
       "Name: count, dtype: int64"
      ]
     },
     "execution_count": 14,
     "metadata": {},
     "output_type": "execute_result"
    }
   ],
   "source": [
    "tabla2['Ingreso Neto Numérico'].value_counts()"
   ]
  },
  {
   "cell_type": "code",
   "execution_count": 15,
   "metadata": {},
   "outputs": [
    {
     "data": {
      "text/plain": [
       "Ciudad MX\n",
       "MÉXICO                             4981\n",
       "CIUDAD DE MÉXICO                   3602\n",
       "JALISCO                            2464\n",
       "VERACRUZ DE IGNACIO DE LA LLAVE    2085\n",
       "NUEVO LEÓN                         1830\n",
       "GUANAJUATO                         1400\n",
       "PUEBLA                             1219\n",
       "TAMAULIPAS                         1038\n",
       "BAJA CALIFORNIA                     958\n",
       "QUERÉTARO                           912\n",
       "COAHUILA DE ZARAGOZA                900\n",
       "YUCATÁN                             787\n",
       "SONORA                              697\n",
       "MICHOACÁN DE OCAMPO                 689\n",
       "CHIHUAHUA                           676\n",
       "HIDALGO                             583\n",
       "TABASCO                             568\n",
       "SAN LUIS POTOSÍ                     563\n",
       "MORELOS                             541\n",
       "CHIAPAS                             526\n",
       "SINALOA                             524\n",
       "QUINTANA ROO                        463\n",
       "DURANGO                             442\n",
       "OAXACA                              390\n",
       "CAMPECHE                            325\n",
       "AGUASCALIENTES                      310\n",
       "BAJA CALIFORNIA SUR                 290\n",
       "GUERRERO                            290\n",
       "TLAXCALA                            257\n",
       "NAYARIT                             236\n",
       "Name: count, dtype: int64"
      ]
     },
     "execution_count": 15,
     "metadata": {},
     "output_type": "execute_result"
    }
   ],
   "source": [
    "conteo_estados=tabla['Ciudad MX'].value_counts()\n",
    "conteo_estados.head(30)"
   ]
  },
  {
   "cell_type": "code",
   "execution_count": 16,
   "metadata": {},
   "outputs": [
    {
     "data": {
      "text/plain": [
       "Ingreso Neto Numérico\n",
       "7500.00     6628\n",
       "5255.00      644\n",
       "6791.20      369\n",
       "5659.00      297\n",
       "6225.44      282\n",
       "            ... \n",
       "17312.00       1\n",
       "45425.00       1\n",
       "12246.00       1\n",
       "8652.00        1\n",
       "13716.00       1\n",
       "Name: count, Length: 10123, dtype: int64"
      ]
     },
     "execution_count": 16,
     "metadata": {},
     "output_type": "execute_result"
    }
   ],
   "source": [
    "tabla['Ingreso Neto Numérico'].value_counts()"
   ]
  },
  {
   "cell_type": "code",
   "execution_count": 17,
   "metadata": {},
   "outputs": [
    {
     "name": "stderr",
     "output_type": "stream",
     "text": [
      "C:\\Users\\Rafael\\AppData\\Local\\Temp\\ipykernel_9756\\3207757220.py:1: SettingWithCopyWarning: \n",
      "A value is trying to be set on a copy of a slice from a DataFrame.\n",
      "Try using .loc[row_indexer,col_indexer] = value instead\n",
      "\n",
      "See the caveats in the documentation: https://pandas.pydata.org/pandas-docs/stable/user_guide/indexing.html#returning-a-view-versus-a-copy\n",
      "  tabla['Pagado'] = np.where(tabla['Estatus préstamo'] == 'Pagado', 1, 0)\n"
     ]
    }
   ],
   "source": [
    "tabla['Pagado'] = np.where(tabla['Estatus préstamo'] == 'Pagado', 1, 0)\n"
   ]
  },
  {
   "cell_type": "markdown",
   "metadata": {},
   "source": [
    "Creamos una tabla nombrada **ingreso_promedio** que contiene por cada Estado de México promedio del ingreso neto que anteriormente convertimos a número, adicionalmente, creamos **porcentaje_pago** que indica el porcentaje de préstamos pagados de la data por Estado."
   ]
  },
  {
   "cell_type": "code",
   "execution_count": 18,
   "metadata": {},
   "outputs": [],
   "source": [
    "ingreso_promedio = tabla.groupby('Ciudad MX')['Ingreso Neto Numérico'].mean().reset_index()\n",
    "ingreso_promedio = ingreso_promedio.sort_values(by='Ingreso Neto Numérico', ascending=False)\n",
    "\n",
    "porcentaje_pago = tabla.groupby('Ciudad MX')['Pagado'].mean().reset_index()\n",
    "porcentaje_pago = porcentaje_pago.sort_values(by='Pagado', ascending=False)"
   ]
  },
  {
   "cell_type": "markdown",
   "metadata": {},
   "source": [
    "Crearemos un gráfico para visualizar el ingreso promedio **por Estado** usando seaborn.barplot, esto será un primer paso para determinar sí el **ingreso neto** puede tener que ver con el **porcentaje de pago**."
   ]
  },
  {
   "cell_type": "code",
   "execution_count": 19,
   "metadata": {},
   "outputs": [
    {
     "name": "stderr",
     "output_type": "stream",
     "text": [
      "C:\\Users\\Rafael\\AppData\\Local\\Temp\\ipykernel_9756\\1955286730.py:2: FutureWarning: \n",
      "\n",
      "Passing `palette` without assigning `hue` is deprecated and will be removed in v0.14.0. Assign the `x` variable to `hue` and set `legend=False` for the same effect.\n",
      "\n",
      "  sns.barplot(x='Ciudad MX', y='Ingreso Neto Numérico', data=ingreso_promedio, palette='viridis')\n"
     ]
    },
    {
     "data": {
      "image/png": "[encoded data removed]",
      "text/plain": [
       "<Figure size 1000x600 with 1 Axes>"
      ]
     },
     "metadata": {},
     "output_type": "display_data"
    }
   ],
   "source": [
    "plt.figure(figsize=(10, 6))\n",
    "sns.barplot(x='Ciudad MX', y='Ingreso Neto Numérico', data=ingreso_promedio, palette='viridis')\n",
    "plt.title('Ingreso Neto Promedio por Estado', fontsize=16)\n",
    "plt.xlabel('Estado', fontsize=14)\n",
    "plt.ylabel('Ingreso Neto Promedio (MXN)', fontsize=14)\n",
    "plt.xticks(rotation=90, fontsize=12)\n",
    "plt.yticks(fontsize=12)\n",
    "plt.grid(axis='y', linestyle='--', alpha=0.7)\n",
    "plt.tight_layout()\n",
    "plt.show()"
   ]
  },
  {
   "cell_type": "markdown",
   "metadata": {},
   "source": [
    "Haremos lo mismo que en el paso anterior ahora con el **porcentaje de pago**."
   ]
  },
  {
   "cell_type": "code",
   "execution_count": 20,
   "metadata": {},
   "outputs": [
    {
     "name": "stderr",
     "output_type": "stream",
     "text": [
      "C:\\Users\\Rafael\\AppData\\Local\\Temp\\ipykernel_9756\\1347068435.py:2: FutureWarning: \n",
      "\n",
      "Passing `palette` without assigning `hue` is deprecated and will be removed in v0.14.0. Assign the `x` variable to `hue` and set `legend=False` for the same effect.\n",
      "\n",
      "  sns.barplot(x='Ciudad MX', y='Pagado', data=porcentaje_pago, palette='viridis')\n"
     ]
    },
    {
     "data": {
      "image/png": "[encoded data removed]",
      "text/plain": [
       "<Figure size 1000x600 with 1 Axes>"
      ]
     },
     "metadata": {},
     "output_type": "display_data"
    }
   ],
   "source": [
    "plt.figure(figsize=(10, 6))\n",
    "sns.barplot(x='Ciudad MX', y='Pagado', data=porcentaje_pago, palette='viridis')\n",
    "plt.title('Porcentaje de pago por Estado', fontsize=16)\n",
    "plt.xlabel('Estado', fontsize=14)\n",
    "plt.ylabel('Pago (%)', fontsize=14)\n",
    "plt.xticks(rotation=90, fontsize=12)\n",
    "plt.yticks(fontsize=12)\n",
    "plt.grid(axis='y', linestyle='--', alpha=0.7)\n",
    "plt.tight_layout()\n",
    "plt.show()"
   ]
  },
  {
   "cell_type": "markdown",
   "metadata": {},
   "source": [
    "Para ver posibles dependencias entre las variables anteriores (ingreso promedio y porcentaje de pago) se crea una tabla combinada con todos **los estados**, su **ingreso promedio** y su **porcentaje de pago**:"
   ]
  },
  {
   "cell_type": "code",
   "execution_count": 21,
   "metadata": {},
   "outputs": [
    {
     "data": {
      "text/html": [
       "<div>\n",
       "<style scoped>\n",
       "    .dataframe tbody tr th:only-of-type {\n",
       "        vertical-align: middle;\n",
       "    }\n",
       "\n",
       "    .dataframe tbody tr th {\n",
       "        vertical-align: top;\n",
       "    }\n",
       "\n",
       "    .dataframe thead th {\n",
       "        text-align: right;\n",
       "    }\n",
       "</style>\n",
       "<table border=\"1\" class=\"dataframe\">\n",
       "  <thead>\n",
       "    <tr style=\"text-align: right;\">\n",
       "      <th></th>\n",
       "      <th>Ciudad MX</th>\n",
       "      <th>Ingreso Neto Numérico</th>\n",
       "      <th>Pagado</th>\n",
       "    </tr>\n",
       "  </thead>\n",
       "  <tbody>\n",
       "    <tr>\n",
       "      <th>0</th>\n",
       "      <td>BAJA CALIFORNIA SUR</td>\n",
       "      <td>15555.782690</td>\n",
       "      <td>0.006897</td>\n",
       "    </tr>\n",
       "    <tr>\n",
       "      <th>1</th>\n",
       "      <td>NUEVO LEÓN</td>\n",
       "      <td>13873.737295</td>\n",
       "      <td>0.007650</td>\n",
       "    </tr>\n",
       "    <tr>\n",
       "      <th>2</th>\n",
       "      <td>CIUDAD DE MÉXICO</td>\n",
       "      <td>13200.078692</td>\n",
       "      <td>0.006941</td>\n",
       "    </tr>\n",
       "    <tr>\n",
       "      <th>3</th>\n",
       "      <td>CHIHUAHUA</td>\n",
       "      <td>13179.416243</td>\n",
       "      <td>0.005917</td>\n",
       "    </tr>\n",
       "    <tr>\n",
       "      <th>4</th>\n",
       "      <td>QUERÉTARO</td>\n",
       "      <td>13037.371809</td>\n",
       "      <td>0.003289</td>\n",
       "    </tr>\n",
       "    <tr>\n",
       "      <th>5</th>\n",
       "      <td>TAMAULIPAS</td>\n",
       "      <td>12669.324759</td>\n",
       "      <td>0.008671</td>\n",
       "    </tr>\n",
       "    <tr>\n",
       "      <th>6</th>\n",
       "      <td>BAJA CALIFORNIA</td>\n",
       "      <td>12538.017526</td>\n",
       "      <td>0.004175</td>\n",
       "    </tr>\n",
       "    <tr>\n",
       "      <th>7</th>\n",
       "      <td>COAHUILA DE ZARAGOZA</td>\n",
       "      <td>11962.099167</td>\n",
       "      <td>0.002222</td>\n",
       "    </tr>\n",
       "    <tr>\n",
       "      <th>8</th>\n",
       "      <td>JALISCO</td>\n",
       "      <td>11862.127914</td>\n",
       "      <td>0.007711</td>\n",
       "    </tr>\n",
       "    <tr>\n",
       "      <th>9</th>\n",
       "      <td>SAN LUIS POTOSÍ</td>\n",
       "      <td>11793.513641</td>\n",
       "      <td>0.003552</td>\n",
       "    </tr>\n",
       "    <tr>\n",
       "      <th>10</th>\n",
       "      <td>MÉXICO</td>\n",
       "      <td>11396.854748</td>\n",
       "      <td>0.006625</td>\n",
       "    </tr>\n",
       "    <tr>\n",
       "      <th>11</th>\n",
       "      <td>SONORA</td>\n",
       "      <td>11278.572410</td>\n",
       "      <td>0.007174</td>\n",
       "    </tr>\n",
       "    <tr>\n",
       "      <th>12</th>\n",
       "      <td>QUINTANA ROO</td>\n",
       "      <td>10970.268164</td>\n",
       "      <td>0.002160</td>\n",
       "    </tr>\n",
       "    <tr>\n",
       "      <th>13</th>\n",
       "      <td>ZACATECAS</td>\n",
       "      <td>10607.909719</td>\n",
       "      <td>0.000000</td>\n",
       "    </tr>\n",
       "    <tr>\n",
       "      <th>14</th>\n",
       "      <td>AGUASCALIENTES</td>\n",
       "      <td>10238.415194</td>\n",
       "      <td>0.012903</td>\n",
       "    </tr>\n",
       "    <tr>\n",
       "      <th>15</th>\n",
       "      <td>TABASCO</td>\n",
       "      <td>10236.186338</td>\n",
       "      <td>0.005282</td>\n",
       "    </tr>\n",
       "    <tr>\n",
       "      <th>16</th>\n",
       "      <td>SINALOA</td>\n",
       "      <td>10049.140553</td>\n",
       "      <td>0.003817</td>\n",
       "    </tr>\n",
       "    <tr>\n",
       "      <th>17</th>\n",
       "      <td>GUANAJUATO</td>\n",
       "      <td>9927.461121</td>\n",
       "      <td>0.002857</td>\n",
       "    </tr>\n",
       "    <tr>\n",
       "      <th>18</th>\n",
       "      <td>CHIAPAS</td>\n",
       "      <td>9850.685817</td>\n",
       "      <td>0.003802</td>\n",
       "    </tr>\n",
       "    <tr>\n",
       "      <th>19</th>\n",
       "      <td>COLIMA</td>\n",
       "      <td>9837.982941</td>\n",
       "      <td>0.010695</td>\n",
       "    </tr>\n",
       "    <tr>\n",
       "      <th>20</th>\n",
       "      <td>MICHOACÁN DE OCAMPO</td>\n",
       "      <td>9804.437054</td>\n",
       "      <td>0.004354</td>\n",
       "    </tr>\n",
       "    <tr>\n",
       "      <th>21</th>\n",
       "      <td>DURANGO</td>\n",
       "      <td>9731.726471</td>\n",
       "      <td>0.006787</td>\n",
       "    </tr>\n",
       "    <tr>\n",
       "      <th>22</th>\n",
       "      <td>TLAXCALA</td>\n",
       "      <td>9712.478794</td>\n",
       "      <td>0.015564</td>\n",
       "    </tr>\n",
       "    <tr>\n",
       "      <th>23</th>\n",
       "      <td>MORELOS</td>\n",
       "      <td>9539.988891</td>\n",
       "      <td>0.009242</td>\n",
       "    </tr>\n",
       "    <tr>\n",
       "      <th>24</th>\n",
       "      <td>OAXACA</td>\n",
       "      <td>9405.953897</td>\n",
       "      <td>0.010256</td>\n",
       "    </tr>\n",
       "    <tr>\n",
       "      <th>25</th>\n",
       "      <td>VERACRUZ DE IGNACIO DE LA LLAVE</td>\n",
       "      <td>9380.032859</td>\n",
       "      <td>0.004796</td>\n",
       "    </tr>\n",
       "    <tr>\n",
       "      <th>26</th>\n",
       "      <td>PUEBLA</td>\n",
       "      <td>9306.689368</td>\n",
       "      <td>0.003281</td>\n",
       "    </tr>\n",
       "    <tr>\n",
       "      <th>27</th>\n",
       "      <td>GUERRERO</td>\n",
       "      <td>9266.816552</td>\n",
       "      <td>0.010345</td>\n",
       "    </tr>\n",
       "    <tr>\n",
       "      <th>28</th>\n",
       "      <td>HIDALGO</td>\n",
       "      <td>9186.195214</td>\n",
       "      <td>0.003431</td>\n",
       "    </tr>\n",
       "    <tr>\n",
       "      <th>29</th>\n",
       "      <td>CAMPECHE</td>\n",
       "      <td>8897.647908</td>\n",
       "      <td>0.015385</td>\n",
       "    </tr>\n",
       "    <tr>\n",
       "      <th>30</th>\n",
       "      <td>NAYARIT</td>\n",
       "      <td>8789.319407</td>\n",
       "      <td>0.004237</td>\n",
       "    </tr>\n",
       "    <tr>\n",
       "      <th>31</th>\n",
       "      <td>YUCATÁN</td>\n",
       "      <td>8487.544028</td>\n",
       "      <td>0.001271</td>\n",
       "    </tr>\n",
       "  </tbody>\n",
       "</table>\n",
       "</div>"
      ],
      "text/plain": [
       "                          Ciudad MX  Ingreso Neto Numérico    Pagado\n",
       "0               BAJA CALIFORNIA SUR           15555.782690  0.006897\n",
       "1                        NUEVO LEÓN           13873.737295  0.007650\n",
       "2                  CIUDAD DE MÉXICO           13200.078692  0.006941\n",
       "3                         CHIHUAHUA           13179.416243  0.005917\n",
       "4                         QUERÉTARO           13037.371809  0.003289\n",
       "5                        TAMAULIPAS           12669.324759  0.008671\n",
       "6                   BAJA CALIFORNIA           12538.017526  0.004175\n",
       "7              COAHUILA DE ZARAGOZA           11962.099167  0.002222\n",
       "8                           JALISCO           11862.127914  0.007711\n",
       "9                   SAN LUIS POTOSÍ           11793.513641  0.003552\n",
       "10                           MÉXICO           11396.854748  0.006625\n",
       "11                           SONORA           11278.572410  0.007174\n",
       "12                     QUINTANA ROO           10970.268164  0.002160\n",
       "13                        ZACATECAS           10607.909719  0.000000\n",
       "14                   AGUASCALIENTES           10238.415194  0.012903\n",
       "15                          TABASCO           10236.186338  0.005282\n",
       "16                          SINALOA           10049.140553  0.003817\n",
       "17                       GUANAJUATO            9927.461121  0.002857\n",
       "18                          CHIAPAS            9850.685817  0.003802\n",
       "19                           COLIMA            9837.982941  0.010695\n",
       "20              MICHOACÁN DE OCAMPO            9804.437054  0.004354\n",
       "21                          DURANGO            9731.726471  0.006787\n",
       "22                         TLAXCALA            9712.478794  0.015564\n",
       "23                          MORELOS            9539.988891  0.009242\n",
       "24                           OAXACA            9405.953897  0.010256\n",
       "25  VERACRUZ DE IGNACIO DE LA LLAVE            9380.032859  0.004796\n",
       "26                           PUEBLA            9306.689368  0.003281\n",
       "27                         GUERRERO            9266.816552  0.010345\n",
       "28                          HIDALGO            9186.195214  0.003431\n",
       "29                         CAMPECHE            8897.647908  0.015385\n",
       "30                          NAYARIT            8789.319407  0.004237\n",
       "31                          YUCATÁN            8487.544028  0.001271"
      ]
     },
     "execution_count": 21,
     "metadata": {},
     "output_type": "execute_result"
    }
   ],
   "source": [
    "tabla_combinada = pd.merge(ingreso_promedio, porcentaje_pago, on='Ciudad MX')\n",
    "tabla_combinada"
   ]
  },
  {
   "cell_type": "code",
   "execution_count": 22,
   "metadata": {},
   "outputs": [
    {
     "name": "stdout",
     "output_type": "stream",
     "text": [
      "Defaulting to user installation because normal site-packages is not writeable\n",
      "Requirement already satisfied: plotly in c:\\users\\rafael\\appdata\\local\\packages\\pythonsoftwarefoundation.python.3.12_qbz5n2kfra8p0\\localcache\\local-packages\\python312\\site-packages (5.24.1)\n",
      "Requirement already satisfied: tenacity>=6.2.0 in c:\\users\\rafael\\appdata\\local\\packages\\pythonsoftwarefoundation.python.3.12_qbz5n2kfra8p0\\localcache\\local-packages\\python312\\site-packages (from plotly) (9.0.0)\n",
      "Requirement already satisfied: packaging in c:\\users\\rafael\\appdata\\local\\packages\\pythonsoftwarefoundation.python.3.12_qbz5n2kfra8p0\\localcache\\local-packages\\python312\\site-packages (from plotly) (24.2)\n"
     ]
    }
   ],
   "source": [
    "!pip install plotly"
   ]
  },
  {
   "cell_type": "code",
   "execution_count": 23,
   "metadata": {},
   "outputs": [],
   "source": [
    "import plotly.express as px\n",
    "import plotly.io as pio"
   ]
  },
  {
   "cell_type": "markdown",
   "metadata": {},
   "source": [
    "Mediente Plotly, ahora, veremos cómo se comportan las variables vistas anteriormente en conjunto:"
   ]
  },
  {
   "cell_type": "code",
   "execution_count": 24,
   "metadata": {},
   "outputs": [
    {
     "data": {
      "application/vnd.plotly.v1+json": {
       "config": {
        "plotlyServerURL": "https://plot.ly"
       },
       "data": [
        {
         "hovertemplate": "Pagado=%{x}<br>Ingreso Neto Numérico=%{y}<br>Ciudad MX=%{text}<extra></extra>",
         "legendgroup": "",
         "marker": {
          "color": "blue",
          "opacity": 0.8,
          "size": 12,
          "symbol": "circle"
         },
         "mode": "markers+text",
         "name": "",
         "orientation": "v",
         "showlegend": false,
         "text": [
          "BAJA CALIFORNIA SUR",
          "NUEVO LEÓN",
          "CIUDAD DE MÉXICO",
          "CHIHUAHUA",
          "QUERÉTARO",
          "TAMAULIPAS",
          "BAJA CALIFORNIA",
          "COAHUILA DE ZARAGOZA",
          "JALISCO",
          "SAN LUIS POTOSÍ",
          "MÉXICO",
          "SONORA",
          "QUINTANA ROO",
          "ZACATECAS",
          "AGUASCALIENTES",
          "TABASCO",
          "SINALOA",
          "GUANAJUATO",
          "CHIAPAS",
          "COLIMA",
          "MICHOACÁN DE OCAMPO",
          "DURANGO",
          "TLAXCALA",
          "MORELOS",
          "OAXACA",
          "VERACRUZ DE IGNACIO DE LA LLAVE",
          "PUEBLA",
          "GUERRERO",
          "HIDALGO",
          "CAMPECHE",
          "NAYARIT",
          "YUCATÁN"
         ],
         "textposition": "top center",
         "type": "scatter",
         "x": [
          0.006896551724137931,
          0.007650273224043716,
          0.00694058856191005,
          0.005917159763313609,
          0.003289473684210526,
          0.008670520231213872,
          0.0041753653444676405,
          0.0022222222222222222,
          0.007711038961038961,
          0.003552397868561279,
          0.006625175667536639,
          0.007173601147776184,
          0.0021598272138228943,
          0,
          0.012903225806451613,
          0.00528169014084507,
          0.003816793893129771,
          0.002857142857142857,
          0.0038022813688212928,
          0.0106951871657754,
          0.0043541364296081275,
          0.006787330316742082,
          0.01556420233463035,
          0.009242144177449169,
          0.010256410256410256,
          0.004796163069544364,
          0.003281378178835111,
          0.010344827586206896,
          0.003430531732418525,
          0.015384615384615385,
          0.00423728813559322,
          0.0012706480304955528
         ],
         "xaxis": "x",
         "y": [
          15555.782689655174,
          13873.737295081968,
          13200.078692393115,
          13179.416242603551,
          13037.371809210526,
          12669.324759152216,
          12538.017526096033,
          11962.099166666667,
          11862.12791396104,
          11793.513641207815,
          11396.854748042562,
          11278.572410329985,
          10970.268164146868,
          10607.909719101122,
          10238.415193548388,
          10236.186338028168,
          10049.140553435116,
          9927.461121428572,
          9850.685817490496,
          9837.982941176471,
          9804.437053701016,
          9731.726470588235,
          9712.478793774319,
          9539.988890942699,
          9405.953897435897,
          9380.03285851319,
          9306.6893683347,
          9266.816551724138,
          9186.195214408233,
          8897.647907692308,
          8789.319406779661,
          8487.544027954256
         ],
         "yaxis": "y"
        }
       ],
       "layout": {
        "legend": {
         "tracegroupgap": 0
        },
        "template": {
         "data": {
          "bar": [
           {
            "error_x": {
             "color": "#2a3f5f"
            },
            "error_y": {
             "color": "#2a3f5f"
            },
            "marker": {
             "line": {
              "color": "#E5ECF6",
              "width": 0.5
             },
             "pattern": {
              "fillmode": "overlay",
              "size": 10,
              "solidity": 0.2
             }
            },
            "type": "bar"
           }
          ],
          "barpolar": [
           {
            "marker": {
             "line": {
              "color": "#E5ECF6",
              "width": 0.5
             },
             "pattern": {
              "fillmode": "overlay",
              "size": 10,
              "solidity": 0.2
             }
            },
            "type": "barpolar"
           }
          ],
          "carpet": [
           {
            "aaxis": {
             "endlinecolor": "#2a3f5f",
             "gridcolor": "white",
             "linecolor": "white",
             "minorgridcolor": "white",
             "startlinecolor": "#2a3f5f"
            },
            "baxis": {
             "endlinecolor": "#2a3f5f",
             "gridcolor": "white",
             "linecolor": "white",
             "minorgridcolor": "white",
             "startlinecolor": "#2a3f5f"
            },
            "type": "carpet"
           }
          ],
          "choropleth": [
           {
            "colorbar": {
             "outlinewidth": 0,
             "ticks": ""
            },
            "type": "choropleth"
           }
          ],
          "contour": [
           {
            "colorbar": {
             "outlinewidth": 0,
             "ticks": ""
            },
            "colorscale": [
             [
              0,
              "#0d0887"
             ],
             [
              0.1111111111111111,
              "#46039f"
             ],
             [
              0.2222222222222222,
              "#7201a8"
             ],
             [
              0.3333333333333333,
              "#9c179e"
             ],
             [
              0.4444444444444444,
              "#bd3786"
             ],
             [
              0.5555555555555556,
              "#d8576b"
             ],
             [
              0.6666666666666666,
              "#ed7953"
             ],
             [
              0.7777777777777778,
              "#fb9f3a"
             ],
             [
              0.8888888888888888,
              "#fdca26"
             ],
             [
              1,
              "#f0f921"
             ]
            ],
            "type": "contour"
           }
          ],
          "contourcarpet": [
           {
            "colorbar": {
             "outlinewidth": 0,
             "ticks": ""
            },
            "type": "contourcarpet"
           }
          ],
          "heatmap": [
           {
            "colorbar": {
             "outlinewidth": 0,
             "ticks": ""
            },
            "colorscale": [
             [
              0,
              "#0d0887"
             ],
             [
              0.1111111111111111,
              "#46039f"
             ],
             [
              0.2222222222222222,
              "#7201a8"
             ],
             [
              0.3333333333333333,
              "#9c179e"
             ],
             [
              0.4444444444444444,
              "#bd3786"
             ],
             [
              0.5555555555555556,
              "#d8576b"
             ],
             [
              0.6666666666666666,
              "#ed7953"
             ],
             [
              0.7777777777777778,
              "#fb9f3a"
             ],
             [
              0.8888888888888888,
              "#fdca26"
             ],
             [
              1,
              "#f0f921"
             ]
            ],
            "type": "heatmap"
           }
          ],
          "heatmapgl": [
           {
            "colorbar": {
             "outlinewidth": 0,
             "ticks": ""
            },
            "colorscale": [
             [
              0,
              "#0d0887"
             ],
             [
              0.1111111111111111,
              "#46039f"
             ],
             [
              0.2222222222222222,
              "#7201a8"
             ],
             [
              0.3333333333333333,
              "#9c179e"
             ],
             [
              0.4444444444444444,
              "#bd3786"
             ],
             [
              0.5555555555555556,
              "#d8576b"
             ],
             [
              0.6666666666666666,
              "#ed7953"
             ],
             [
              0.7777777777777778,
              "#fb9f3a"
             ],
             [
              0.8888888888888888,
              "#fdca26"
             ],
             [
              1,
              "#f0f921"
             ]
            ],
            "type": "heatmapgl"
           }
          ],
          "histogram": [
           {
            "marker": {
             "pattern": {
              "fillmode": "overlay",
              "size": 10,
              "solidity": 0.2
             }
            },
            "type": "histogram"
           }
          ],
          "histogram2d": [
           {
            "colorbar": {
             "outlinewidth": 0,
             "ticks": ""
            },
            "colorscale": [
             [
              0,
              "#0d0887"
             ],
             [
              0.1111111111111111,
              "#46039f"
             ],
             [
              0.2222222222222222,
              "#7201a8"
             ],
             [
              0.3333333333333333,
              "#9c179e"
             ],
             [
              0.4444444444444444,
              "#bd3786"
             ],
             [
              0.5555555555555556,
              "#d8576b"
             ],
             [
              0.6666666666666666,
              "#ed7953"
             ],
             [
              0.7777777777777778,
              "#fb9f3a"
             ],
             [
              0.8888888888888888,
              "#fdca26"
             ],
             [
              1,
              "#f0f921"
             ]
            ],
            "type": "histogram2d"
           }
          ],
          "histogram2dcontour": [
           {
            "colorbar": {
             "outlinewidth": 0,
             "ticks": ""
            },
            "colorscale": [
             [
              0,
              "#0d0887"
             ],
             [
              0.1111111111111111,
              "#46039f"
             ],
             [
              0.2222222222222222,
              "#7201a8"
             ],
             [
              0.3333333333333333,
              "#9c179e"
             ],
             [
              0.4444444444444444,
              "#bd3786"
             ],
             [
              0.5555555555555556,
              "#d8576b"
             ],
             [
              0.6666666666666666,
              "#ed7953"
             ],
             [
              0.7777777777777778,
              "#fb9f3a"
             ],
             [
              0.8888888888888888,
              "#fdca26"
             ],
             [
              1,
              "#f0f921"
             ]
            ],
            "type": "histogram2dcontour"
           }
          ],
          "mesh3d": [
           {
            "colorbar": {
             "outlinewidth": 0,
             "ticks": ""
            },
            "type": "mesh3d"
           }
          ],
          "parcoords": [
           {
            "line": {
             "colorbar": {
              "outlinewidth": 0,
              "ticks": ""
             }
            },
            "type": "parcoords"
           }
          ],
          "pie": [
           {
            "automargin": true,
            "type": "pie"
           }
          ],
          "scatter": [
           {
            "fillpattern": {
             "fillmode": "overlay",
             "size": 10,
             "solidity": 0.2
            },
            "type": "scatter"
           }
          ],
          "scatter3d": [
           {
            "line": {
             "colorbar": {
              "outlinewidth": 0,
              "ticks": ""
             }
            },
            "marker": {
             "colorbar": {
              "outlinewidth": 0,
              "ticks": ""
             }
            },
            "type": "scatter3d"
           }
          ],
          "scattercarpet": [
           {
            "marker": {
             "colorbar": {
              "outlinewidth": 0,
              "ticks": ""
             }
            },
            "type": "scattercarpet"
           }
          ],
          "scattergeo": [
           {
            "marker": {
             "colorbar": {
              "outlinewidth": 0,
              "ticks": ""
             }
            },
            "type": "scattergeo"
           }
          ],
          "scattergl": [
           {
            "marker": {
             "colorbar": {
              "outlinewidth": 0,
              "ticks": ""
             }
            },
            "type": "scattergl"
           }
          ],
          "scattermapbox": [
           {
            "marker": {
             "colorbar": {
              "outlinewidth": 0,
              "ticks": ""
             }
            },
            "type": "scattermapbox"
           }
          ],
          "scatterpolar": [
           {
            "marker": {
             "colorbar": {
              "outlinewidth": 0,
              "ticks": ""
             }
            },
            "type": "scatterpolar"
           }
          ],
          "scatterpolargl": [
           {
            "marker": {
             "colorbar": {
              "outlinewidth": 0,
              "ticks": ""
             }
            },
            "type": "scatterpolargl"
           }
          ],
          "scatterternary": [
           {
            "marker": {
             "colorbar": {
              "outlinewidth": 0,
              "ticks": ""
             }
            },
            "type": "scatterternary"
           }
          ],
          "surface": [
           {
            "colorbar": {
             "outlinewidth": 0,
             "ticks": ""
            },
            "colorscale": [
             [
              0,
              "#0d0887"
             ],
             [
              0.1111111111111111,
              "#46039f"
             ],
             [
              0.2222222222222222,
              "#7201a8"
             ],
             [
              0.3333333333333333,
              "#9c179e"
             ],
             [
              0.4444444444444444,
              "#bd3786"
             ],
             [
              0.5555555555555556,
              "#d8576b"
             ],
             [
              0.6666666666666666,
              "#ed7953"
             ],
             [
              0.7777777777777778,
              "#fb9f3a"
             ],
             [
              0.8888888888888888,
              "#fdca26"
             ],
             [
              1,
              "#f0f921"
             ]
            ],
            "type": "surface"
           }
          ],
          "table": [
           {
            "cells": {
             "fill": {
              "color": "#EBF0F8"
             },
             "line": {
              "color": "white"
             }
            },
            "header": {
             "fill": {
              "color": "#C8D4E3"
             },
             "line": {
              "color": "white"
             }
            },
            "type": "table"
           }
          ]
         },
         "layout": {
          "annotationdefaults": {
           "arrowcolor": "#2a3f5f",
           "arrowhead": 0,
           "arrowwidth": 1
          },
          "autotypenumbers": "strict",
          "coloraxis": {
           "colorbar": {
            "outlinewidth": 0,
            "ticks": ""
           }
          },
          "colorscale": {
           "diverging": [
            [
             0,
             "#8e0152"
            ],
            [
             0.1,
             "#c51b7d"
            ],
            [
             0.2,
             "#de77ae"
            ],
            [
             0.3,
             "#f1b6da"
            ],
            [
             0.4,
             "#fde0ef"
            ],
            [
             0.5,
             "#f7f7f7"
            ],
            [
             0.6,
             "#e6f5d0"
            ],
            [
             0.7,
             "#b8e186"
            ],
            [
             0.8,
             "#7fbc41"
            ],
            [
             0.9,
             "#4d9221"
            ],
            [
             1,
             "#276419"
            ]
           ],
           "sequential": [
            [
             0,
             "#0d0887"
            ],
            [
             0.1111111111111111,
             "#46039f"
            ],
            [
             0.2222222222222222,
             "#7201a8"
            ],
            [
             0.3333333333333333,
             "#9c179e"
            ],
            [
             0.4444444444444444,
             "#bd3786"
            ],
            [
             0.5555555555555556,
             "#d8576b"
            ],
            [
             0.6666666666666666,
             "#ed7953"
            ],
            [
             0.7777777777777778,
             "#fb9f3a"
            ],
            [
             0.8888888888888888,
             "#fdca26"
            ],
            [
             1,
             "#f0f921"
            ]
           ],
           "sequentialminus": [
            [
             0,
             "#0d0887"
            ],
            [
             0.1111111111111111,
             "#46039f"
            ],
            [
             0.2222222222222222,
             "#7201a8"
            ],
            [
             0.3333333333333333,
             "#9c179e"
            ],
            [
             0.4444444444444444,
             "#bd3786"
            ],
            [
             0.5555555555555556,
             "#d8576b"
            ],
            [
             0.6666666666666666,
             "#ed7953"
            ],
            [
             0.7777777777777778,
             "#fb9f3a"
            ],
            [
             0.8888888888888888,
             "#fdca26"
            ],
            [
             1,
             "#f0f921"
            ]
           ]
          },
          "colorway": [
           "#636efa",
           "#EF553B",
           "#00cc96",
           "#ab63fa",
           "#FFA15A",
           "#19d3f3",
           "#FF6692",
           "#B6E880",
           "#FF97FF",
           "#FECB52"
          ],
          "font": {
           "color": "#2a3f5f"
          },
          "geo": {
           "bgcolor": "white",
           "lakecolor": "white",
           "landcolor": "#E5ECF6",
           "showlakes": true,
           "showland": true,
           "subunitcolor": "white"
          },
          "hoverlabel": {
           "align": "left"
          },
          "hovermode": "closest",
          "mapbox": {
           "style": "light"
          },
          "paper_bgcolor": "white",
          "plot_bgcolor": "#E5ECF6",
          "polar": {
           "angularaxis": {
            "gridcolor": "white",
            "linecolor": "white",
            "ticks": ""
           },
           "bgcolor": "#E5ECF6",
           "radialaxis": {
            "gridcolor": "white",
            "linecolor": "white",
            "ticks": ""
           }
          },
          "scene": {
           "xaxis": {
            "backgroundcolor": "#E5ECF6",
            "gridcolor": "white",
            "gridwidth": 2,
            "linecolor": "white",
            "showbackground": true,
            "ticks": "",
            "zerolinecolor": "white"
           },
           "yaxis": {
            "backgroundcolor": "#E5ECF6",
            "gridcolor": "white",
            "gridwidth": 2,
            "linecolor": "white",
            "showbackground": true,
            "ticks": "",
            "zerolinecolor": "white"
           },
           "zaxis": {
            "backgroundcolor": "#E5ECF6",
            "gridcolor": "white",
            "gridwidth": 2,
            "linecolor": "white",
            "showbackground": true,
            "ticks": "",
            "zerolinecolor": "white"
           }
          },
          "shapedefaults": {
           "line": {
            "color": "#2a3f5f"
           }
          },
          "ternary": {
           "aaxis": {
            "gridcolor": "white",
            "linecolor": "white",
            "ticks": ""
           },
           "baxis": {
            "gridcolor": "white",
            "linecolor": "white",
            "ticks": ""
           },
           "bgcolor": "#E5ECF6",
           "caxis": {
            "gridcolor": "white",
            "linecolor": "white",
            "ticks": ""
           }
          },
          "title": {
           "x": 0.05
          },
          "xaxis": {
           "automargin": true,
           "gridcolor": "white",
           "linecolor": "white",
           "ticks": "",
           "title": {
            "standoff": 15
           },
           "zerolinecolor": "white",
           "zerolinewidth": 2
          },
          "yaxis": {
           "automargin": true,
           "gridcolor": "white",
           "linecolor": "white",
           "ticks": "",
           "title": {
            "standoff": 15
           },
           "zerolinecolor": "white",
           "zerolinewidth": 2
          }
         }
        },
        "title": {
         "font": {
          "size": 18
         },
         "text": "Relación entre Porcentaje de Pago y Ingreso Neto Promedio",
         "x": 0.5
        },
        "xaxis": {
         "anchor": "y",
         "domain": [
          0,
          1
         ],
         "title": {
          "text": "Pagado"
         }
        },
        "yaxis": {
         "anchor": "x",
         "domain": [
          0,
          1
         ],
         "title": {
          "text": "Ingreso Neto Numérico"
         }
        }
       }
      }
     },
     "metadata": {},
     "output_type": "display_data"
    }
   ],
   "source": [
    "fig = px.scatter(\n",
    "    tabla_combinada,\n",
    "    x='Pagado',\n",
    "    y='Ingreso Neto Numérico',\n",
    "    text='Ciudad MX',  # Mostrar los nombres de los estados en el gráfico\n",
    "    title='Relación entre Porcentaje de Pago y Ingreso Neto Promedio',\n",
    "    labels={'Porcentaje Pago Promedio': 'Porcentaje de Pago (%)',\n",
    "            'Ingreso Neto Promedio': 'Ingreso Neto Promedio (MXN)'},\n",
    "    template='plotly'\n",
    ")\n",
    "\n",
    "# Personalizar diseño\n",
    "fig.update_traces(marker=dict(size=12, color='blue', opacity=0.8), textposition='top center')\n",
    "fig.update_layout(title_font_size=18, title_x=0.5)"
   ]
  },
  {
   "cell_type": "markdown",
   "metadata": {},
   "source": [
    "Luego de observar está gráfica, se puede observar que no existe una relación marcada entre el ingreso neto de cada estado y el porcentaje que tienen de pago. Estados como **Tlaxcala** y **Campeche** tienen los más altos porcentajes de pago, sin embargo son de los más bajos niveles de ingreso neto."
   ]
  }
 ],
 "metadata": {
  "kernelspec": {
   "display_name": "Python 3",
   "language": "python",
   "name": "python3"
  },
  "language_info": {
   "codemirror_mode": {
    "name": "ipython",
    "version": 3
   },
   "file_extension": ".py",
   "mimetype": "text/x-python",
   "name": "python",
   "nbconvert_exporter": "python",
   "pygments_lexer": "ipython3",
   "version": "3.12.8"
  }
 },
 "nbformat": 4,
 "nbformat_minor": 2
}
