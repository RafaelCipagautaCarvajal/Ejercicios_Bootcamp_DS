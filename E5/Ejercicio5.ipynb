{
 "cells": [
  {
   "cell_type": "markdown",
   "metadata": {},
   "source": [
    "# **Actividad 5 - Bootcamp Datascience**\n",
    "### **Presentado por: Rafael Cipagauta Carvajal**"
   ]
  },
  {
   "cell_type": "markdown",
   "metadata": {},
   "source": [
    "**Consigna**\n",
    "1. Deberán generar una instancia de conexión a Base de datos preferiblemente PostgreSQL donde deberá existir el dataset elegido para el proyecto.\n",
    "2. Se deben realizar consultas SQL desde el lenguaje Python utilizando las librerías (psycopg2 o sqlalchemy) y quedar evidenciadas en el archivo .ipynb que se entregue"
   ]
  }
 ],
 "metadata": {
  "language_info": {
   "name": "python"
  }
 },
 "nbformat": 4,
 "nbformat_minor": 2
}
