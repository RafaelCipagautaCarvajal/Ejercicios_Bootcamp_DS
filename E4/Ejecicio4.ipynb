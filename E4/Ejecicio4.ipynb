{
 "cells": [
  {
   "cell_type": "markdown",
   "metadata": {},
   "source": [
    "# **Actividad 4 - Bootcamp Datascience**\n",
    "### **Presentado por: Rafael Cipagauta Carvajal**"
   ]
  },
  {
   "cell_type": "markdown",
   "metadata": {},
   "source": [
    "#### **-\tAbstract:**\n",
    "**Abstract del Proyecto:**\n",
    "Este proyecto tiene como objetivo analizar el comportamiento de pago de los préstamos depositados por una empresa en la operación de México, con el fin de responder a varias hipótesis clave relacionadas con el nivel de pago de los mismos. Las preguntas de investigación incluyen si el ingreso neto es una variable determinante para el comportamiento de pago, si existe una asociación entre el nivel de pago y el estado de los solicitantes, qué variables tienen mayor relación con el nivel de pago y si se observa alguna estacionalidad en el comportamiento de pago a lo largo del tiempo.\n",
    "\n",
    "Para ello, se empleará un conjunto de datos detallados que incluyen información sobre los préstamos, como el código de formulario, código de préstamo, fechas de creación de los formularios y préstamos, y detalles del solicitante, incluyendo ubicación, situación laboral, edad y nivel de mora. Además, se estudiará el estatus del préstamo, el rango de mora y el comportamiento en relación con la puntualidad del pago. Con el análisis de estas variables, se buscará identificar patrones o factores clave que puedan predecir el comportamiento de pago, incluyendo el análisis de posibles tendencias estacionales en los pagos a lo largo del tiempo. \n",
    "\n",
    "A través de técnicas estadísticas y de análisis de datos, este estudio proporcionará información valiosa para mejorar la evaluación del riesgo de los solicitantes y optimizar la gestión de los préstamos, con el fin de predecir de manera más precisa los niveles de pago y la probabilidad de morosidad."
   ]
  },
  {
   "cell_type": "markdown",
   "metadata": {},
   "source": [
    "#### **-\tPreguntas e hipótesis:**\n",
    "- ¿Es el ingreso neto una variable que pueda determinar el comportamiento de pago de un préstamo?\n",
    "- ¿El nivel de pago es algo que se pueda asociar con un Estado?\n",
    "- ¿Qué variables pueden tener más relación con el nivel de pago?\n",
    "- ¿Existe alguna estacionalidad en los niveles de pago? (Se podría decir que con el tiempo, los préstamos depositados han tenido un mejor nivel de pago).\n",
    "\n",
    "#### **-\tObjetivo:**\n",
    "\n",
    "El objetivo principal de este proyecto es analizar los factores que influyen en el comportamiento de pago de los préstamos otorgados por la empresa en la operación de México. Este análisis busca responder a varias preguntas clave, tales como: si el ingreso neto de los solicitantes tiene un impacto en su comportamiento de pago, si el nivel de pago puede asociarse con características del estado de los solicitantes, qué variables están más estrechamente relacionadas con el nivel de pago, y si existen patrones estacionales en los pagos a lo largo del tiempo. Con base en estos hallazgos, el proyecto proporcionará insights útiles para optimizar la toma de decisiones de crédito y mejorar la gestión del riesgo.\n",
    "\n",
    "#### **-\tContexto Comercial:**\n",
    "\n",
    "La empresa en cuestión ofrece préstamos a clientes en todo México, Colombia y Costa Rica, basándose en un modelo de evaluación de crédito que utiliza una variedad de variables personales y financieras del solicitante. Los datos provienen de los préstamos depositados por la operación en México y contienen información tanto sobre los solicitantes como sobre el estado y comportamiento de pago de los préstamos. En este contexto, mejorar la evaluación de la probabilidad de pago es crucial para minimizar el riesgo de morosidad y optimizar la cartera de crédito.\n",
    "\n",
    "#### **-\tProblema Comercial:**\n",
    "\n",
    "Uno de los desafíos principales de la empresa es predecir con precisión el comportamiento de pago de los préstamos, lo que permite tomar decisiones informadas sobre la concesión de créditos. Actualmente, no se cuenta con una comprensión clara de qué variables son las más relevantes para el comportamiento de pago ni si existen patrones estacionales que puedan ayudar a mejorar la predicción del nivel de pago. Si no se pueden identificar estos factores clave, la empresa podría enfrentar mayores tasas de morosidad y pérdidas económicas.\n",
    "\n",
    "#### **-\tContexto Analítico:**\n",
    "\n",
    "El análisis se centrará en el conjunto de datos de préstamos, que contiene información detallada sobre cada préstamo otorgado, las características del solicitante y el comportamiento de pago (incluyendo mora y estatus del préstamo). Se examinarán variables como el ingreso neto, la situación laboral (incluyendo antigüedad en el empleo), la edad del solicitante, y la localización geográfica, con el objetivo de identificar cuáles de estas son las más influyentes en el comportamiento de pago. Además, se analizarán los patrones de mora y pagos a lo largo del tiempo para determinar si existe alguna estacionalidad en los niveles de pago, lo que permitiría identificar ciclos o tendencias que puedan mejorar la predicción de la morosidad. A través de técnicas estadísticas y de modelado predictivo, el proyecto proporcionará información que ayude a la empresa a mejorar sus procesos de evaluación de crédito y optimizar la gestión del riesgo."
   ]
  },
  {
   "cell_type": "markdown",
   "metadata": {},
   "source": [
    "#### **-\tRecomendaciones:**\n",
    "\n",
    "Según lo que se ha visualizado de la data en los ejercicios pasados, podría concluir que la data que las variables que se extrajeron no pueden determinar el nivel de pago de los clientes. Concluiría además que, puede explorarse más a fondo este dataset o en medida de lo posible incluir nuevas variables que puedan relacionarse más directamente con lo que se quiere determinar."
   ]
  }
 ],
 "metadata": {
  "language_info": {
   "name": "python"
  }
 },
 "nbformat": 4,
 "nbformat_minor": 2
}
