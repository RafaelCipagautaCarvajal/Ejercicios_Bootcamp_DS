{
 "cells": [
  {
   "cell_type": "markdown",
   "metadata": {},
   "source": [
    "# **Actividad 3 - Bootcamp Datascience**\n",
    "### **Presentado por: Rafael Cipagauta Carvajal**\n",
    "### **Contexto:**\n",
    "En ésta actividad vamos a ahondar sobre algunas preguntas de interés o hipótesis de interés sobre el dataset elegido ya visto en los ejercicios previos:"
   ]
  },
  {
   "cell_type": "markdown",
   "metadata": {},
   "source": [
    "#### **-\tPreguntas e hipótesis:**\n",
    "- ¿Es el ingreso neto una variable que pueda determinar el comportamiento de pago de un préstamo?\n",
    "- ¿El nivel de pago es algo que se pueda asociar con un Estado?\n",
    "- ¿Qué variables pueden tener más relación con el nivel de pago?\n",
    "- ¿Existe alguna estacionalidad en los niveles de pago? (Se podría decir que con el tiempo, los préstamos depositados han tenido un mejor nivel de pago)."
   ]
  },
  {
   "cell_type": "code",
   "execution_count": 2,
   "metadata": {},
   "outputs": [],
   "source": [
    "import pandas as pd\n",
    "import matplotlib.pyplot as plt\n",
    "import seaborn as sns\n",
    "import numpy as np"
   ]
  },
  {
   "cell_type": "code",
   "execution_count": 4,
   "metadata": {},
   "outputs": [
    {
     "data": {
      "text/html": [
       "<div>\n",
       "<style scoped>\n",
       "    .dataframe tbody tr th:only-of-type {\n",
       "        vertical-align: middle;\n",
       "    }\n",
       "\n",
       "    .dataframe tbody tr th {\n",
       "        vertical-align: top;\n",
       "    }\n",
       "\n",
       "    .dataframe thead th {\n",
       "        text-align: right;\n",
       "    }\n",
       "</style>\n",
       "<table border=\"1\" class=\"dataframe\">\n",
       "  <thead>\n",
       "    <tr style=\"text-align: right;\">\n",
       "      <th></th>\n",
       "      <th>Ciudad MX</th>\n",
       "      <th>Ingreso Neto Numérico</th>\n",
       "      <th>Pagado</th>\n",
       "    </tr>\n",
       "  </thead>\n",
       "  <tbody>\n",
       "    <tr>\n",
       "      <th>0</th>\n",
       "      <td>BAJA CALIFORNIA SUR</td>\n",
       "      <td>15555.782690</td>\n",
       "      <td>0.006897</td>\n",
       "    </tr>\n",
       "    <tr>\n",
       "      <th>1</th>\n",
       "      <td>NUEVO LEÓN</td>\n",
       "      <td>13873.737295</td>\n",
       "      <td>0.007650</td>\n",
       "    </tr>\n",
       "    <tr>\n",
       "      <th>2</th>\n",
       "      <td>CIUDAD DE MÉXICO</td>\n",
       "      <td>13200.078692</td>\n",
       "      <td>0.006941</td>\n",
       "    </tr>\n",
       "    <tr>\n",
       "      <th>3</th>\n",
       "      <td>CHIHUAHUA</td>\n",
       "      <td>13179.416243</td>\n",
       "      <td>0.005917</td>\n",
       "    </tr>\n",
       "    <tr>\n",
       "      <th>4</th>\n",
       "      <td>QUERÉTARO</td>\n",
       "      <td>13037.371809</td>\n",
       "      <td>0.003289</td>\n",
       "    </tr>\n",
       "    <tr>\n",
       "      <th>5</th>\n",
       "      <td>TAMAULIPAS</td>\n",
       "      <td>12669.324759</td>\n",
       "      <td>0.008671</td>\n",
       "    </tr>\n",
       "    <tr>\n",
       "      <th>6</th>\n",
       "      <td>BAJA CALIFORNIA</td>\n",
       "      <td>12538.017526</td>\n",
       "      <td>0.004175</td>\n",
       "    </tr>\n",
       "    <tr>\n",
       "      <th>7</th>\n",
       "      <td>COAHUILA DE ZARAGOZA</td>\n",
       "      <td>11962.099167</td>\n",
       "      <td>0.002222</td>\n",
       "    </tr>\n",
       "    <tr>\n",
       "      <th>8</th>\n",
       "      <td>JALISCO</td>\n",
       "      <td>11862.127914</td>\n",
       "      <td>0.007711</td>\n",
       "    </tr>\n",
       "    <tr>\n",
       "      <th>9</th>\n",
       "      <td>SAN LUIS POTOSÍ</td>\n",
       "      <td>11793.513641</td>\n",
       "      <td>0.003552</td>\n",
       "    </tr>\n",
       "    <tr>\n",
       "      <th>10</th>\n",
       "      <td>MÉXICO</td>\n",
       "      <td>11396.854748</td>\n",
       "      <td>0.006625</td>\n",
       "    </tr>\n",
       "    <tr>\n",
       "      <th>11</th>\n",
       "      <td>SONORA</td>\n",
       "      <td>11278.572410</td>\n",
       "      <td>0.007174</td>\n",
       "    </tr>\n",
       "    <tr>\n",
       "      <th>12</th>\n",
       "      <td>QUINTANA ROO</td>\n",
       "      <td>10970.268164</td>\n",
       "      <td>0.002160</td>\n",
       "    </tr>\n",
       "    <tr>\n",
       "      <th>13</th>\n",
       "      <td>ZACATECAS</td>\n",
       "      <td>10607.909719</td>\n",
       "      <td>0.000000</td>\n",
       "    </tr>\n",
       "    <tr>\n",
       "      <th>14</th>\n",
       "      <td>AGUASCALIENTES</td>\n",
       "      <td>10238.415194</td>\n",
       "      <td>0.012903</td>\n",
       "    </tr>\n",
       "    <tr>\n",
       "      <th>15</th>\n",
       "      <td>TABASCO</td>\n",
       "      <td>10236.186338</td>\n",
       "      <td>0.005282</td>\n",
       "    </tr>\n",
       "    <tr>\n",
       "      <th>16</th>\n",
       "      <td>SINALOA</td>\n",
       "      <td>10049.140553</td>\n",
       "      <td>0.003817</td>\n",
       "    </tr>\n",
       "    <tr>\n",
       "      <th>17</th>\n",
       "      <td>GUANAJUATO</td>\n",
       "      <td>9927.461121</td>\n",
       "      <td>0.002857</td>\n",
       "    </tr>\n",
       "    <tr>\n",
       "      <th>18</th>\n",
       "      <td>CHIAPAS</td>\n",
       "      <td>9850.685817</td>\n",
       "      <td>0.003802</td>\n",
       "    </tr>\n",
       "    <tr>\n",
       "      <th>19</th>\n",
       "      <td>COLIMA</td>\n",
       "      <td>9837.982941</td>\n",
       "      <td>0.010695</td>\n",
       "    </tr>\n",
       "    <tr>\n",
       "      <th>20</th>\n",
       "      <td>MICHOACÁN DE OCAMPO</td>\n",
       "      <td>9804.437054</td>\n",
       "      <td>0.004354</td>\n",
       "    </tr>\n",
       "    <tr>\n",
       "      <th>21</th>\n",
       "      <td>DURANGO</td>\n",
       "      <td>9731.726471</td>\n",
       "      <td>0.006787</td>\n",
       "    </tr>\n",
       "    <tr>\n",
       "      <th>22</th>\n",
       "      <td>TLAXCALA</td>\n",
       "      <td>9712.478794</td>\n",
       "      <td>0.015564</td>\n",
       "    </tr>\n",
       "    <tr>\n",
       "      <th>23</th>\n",
       "      <td>MORELOS</td>\n",
       "      <td>9539.988891</td>\n",
       "      <td>0.009242</td>\n",
       "    </tr>\n",
       "    <tr>\n",
       "      <th>24</th>\n",
       "      <td>OAXACA</td>\n",
       "      <td>9405.953897</td>\n",
       "      <td>0.010256</td>\n",
       "    </tr>\n",
       "    <tr>\n",
       "      <th>25</th>\n",
       "      <td>VERACRUZ DE IGNACIO DE LA LLAVE</td>\n",
       "      <td>9380.032859</td>\n",
       "      <td>0.004796</td>\n",
       "    </tr>\n",
       "    <tr>\n",
       "      <th>26</th>\n",
       "      <td>PUEBLA</td>\n",
       "      <td>9306.689368</td>\n",
       "      <td>0.003281</td>\n",
       "    </tr>\n",
       "    <tr>\n",
       "      <th>27</th>\n",
       "      <td>GUERRERO</td>\n",
       "      <td>9266.816552</td>\n",
       "      <td>0.010345</td>\n",
       "    </tr>\n",
       "    <tr>\n",
       "      <th>28</th>\n",
       "      <td>HIDALGO</td>\n",
       "      <td>9186.195214</td>\n",
       "      <td>0.003431</td>\n",
       "    </tr>\n",
       "    <tr>\n",
       "      <th>29</th>\n",
       "      <td>CAMPECHE</td>\n",
       "      <td>8897.647908</td>\n",
       "      <td>0.015385</td>\n",
       "    </tr>\n",
       "    <tr>\n",
       "      <th>30</th>\n",
       "      <td>NAYARIT</td>\n",
       "      <td>8789.319407</td>\n",
       "      <td>0.004237</td>\n",
       "    </tr>\n",
       "    <tr>\n",
       "      <th>31</th>\n",
       "      <td>YUCATÁN</td>\n",
       "      <td>8487.544028</td>\n",
       "      <td>0.001271</td>\n",
       "    </tr>\n",
       "  </tbody>\n",
       "</table>\n",
       "</div>"
      ],
      "text/plain": [
       "                          Ciudad MX  Ingreso Neto Numérico    Pagado\n",
       "0               BAJA CALIFORNIA SUR           15555.782690  0.006897\n",
       "1                        NUEVO LEÓN           13873.737295  0.007650\n",
       "2                  CIUDAD DE MÉXICO           13200.078692  0.006941\n",
       "3                         CHIHUAHUA           13179.416243  0.005917\n",
       "4                         QUERÉTARO           13037.371809  0.003289\n",
       "5                        TAMAULIPAS           12669.324759  0.008671\n",
       "6                   BAJA CALIFORNIA           12538.017526  0.004175\n",
       "7              COAHUILA DE ZARAGOZA           11962.099167  0.002222\n",
       "8                           JALISCO           11862.127914  0.007711\n",
       "9                   SAN LUIS POTOSÍ           11793.513641  0.003552\n",
       "10                           MÉXICO           11396.854748  0.006625\n",
       "11                           SONORA           11278.572410  0.007174\n",
       "12                     QUINTANA ROO           10970.268164  0.002160\n",
       "13                        ZACATECAS           10607.909719  0.000000\n",
       "14                   AGUASCALIENTES           10238.415194  0.012903\n",
       "15                          TABASCO           10236.186338  0.005282\n",
       "16                          SINALOA           10049.140553  0.003817\n",
       "17                       GUANAJUATO            9927.461121  0.002857\n",
       "18                          CHIAPAS            9850.685817  0.003802\n",
       "19                           COLIMA            9837.982941  0.010695\n",
       "20              MICHOACÁN DE OCAMPO            9804.437054  0.004354\n",
       "21                          DURANGO            9731.726471  0.006787\n",
       "22                         TLAXCALA            9712.478794  0.015564\n",
       "23                          MORELOS            9539.988891  0.009242\n",
       "24                           OAXACA            9405.953897  0.010256\n",
       "25  VERACRUZ DE IGNACIO DE LA LLAVE            9380.032859  0.004796\n",
       "26                           PUEBLA            9306.689368  0.003281\n",
       "27                         GUERRERO            9266.816552  0.010345\n",
       "28                          HIDALGO            9186.195214  0.003431\n",
       "29                         CAMPECHE            8897.647908  0.015385\n",
       "30                          NAYARIT            8789.319407  0.004237\n",
       "31                          YUCATÁN            8487.544028  0.001271"
      ]
     },
     "execution_count": 4,
     "metadata": {},
     "output_type": "execute_result"
    }
   ],
   "source": [
    "ruta=\"c:\\\\Users\\\\Rafael\\\\Desktop\\\\Bootcamp Data Science - BIT\\\\Ejercicios_Bootcamp_DS\\\\E1\\\\\"\n",
    "tabla=pd.read_csv(ruta+'Dataset Bootcamp_Final.csv',sep=';',encoding='utf-8')\n",
    "tabla['Fecha de creación'] = pd.to_datetime(tabla['Fecha de creación'], format='%d/%m/%Y')\n",
    "tabla['Ingreso Neto Numérico'] = (\n",
    "    tabla['Ingreso Neto']\n",
    "    .str.replace('MXN', '', regex=False)\n",
    "    .str.replace('.', '', regex=False)\n",
    "    .str.replace(',', '.', regex=False)\n",
    "    .astype(float)\n",
    ")\n",
    "\n",
    "tabla['Pagado'] = np.where(tabla['Estatus préstamo'] == 'Pagado', 1, 0)\n",
    "\n",
    "ingresos_filtro = 80000\n",
    "tabla2 = tabla[tabla['Ingreso Neto Numérico'] >= ingresos_filtro]\n",
    "tabla = tabla[tabla['Ingreso Neto Numérico'] < ingresos_filtro]\n",
    "\n",
    "ingreso_promedio = tabla.groupby('Ciudad MX')['Ingreso Neto Numérico'].mean().reset_index()\n",
    "ingreso_promedio = ingreso_promedio.sort_values(by='Ingreso Neto Numérico', ascending=False)\n",
    "\n",
    "porcentaje_pago = tabla.groupby('Ciudad MX')['Pagado'].mean().reset_index()\n",
    "porcentaje_pago = porcentaje_pago.sort_values(by='Pagado', ascending=False)\n",
    "\n",
    "tabla_combinada = pd.merge(ingreso_promedio, porcentaje_pago, on='Ciudad MX')\n",
    "tabla_combinada"
   ]
  },
  {
   "cell_type": "code",
   "execution_count": 5,
   "metadata": {},
   "outputs": [
    {
     "data": {
      "application/vnd.plotly.v1+json": {
       "config": {
        "plotlyServerURL": "https://plot.ly"
       },
       "data": [
        {
         "hovertemplate": "Pagado=%{x}<br>Ingreso Neto Numérico=%{y}<br>Ciudad MX=%{text}<extra></extra>",
         "legendgroup": "",
         "marker": {
          "color": "blue",
          "opacity": 0.8,
          "size": 12,
          "symbol": "circle"
         },
         "mode": "markers+text",
         "name": "",
         "orientation": "v",
         "showlegend": false,
         "text": [
          "BAJA CALIFORNIA SUR",
          "NUEVO LEÓN",
          "CIUDAD DE MÉXICO",
          "CHIHUAHUA",
          "QUERÉTARO",
          "TAMAULIPAS",
          "BAJA CALIFORNIA",
          "COAHUILA DE ZARAGOZA",
          "JALISCO",
          "SAN LUIS POTOSÍ",
          "MÉXICO",
          "SONORA",
          "QUINTANA ROO",
          "ZACATECAS",
          "AGUASCALIENTES",
          "TABASCO",
          "SINALOA",
          "GUANAJUATO",
          "CHIAPAS",
          "COLIMA",
          "MICHOACÁN DE OCAMPO",
          "DURANGO",
          "TLAXCALA",
          "MORELOS",
          "OAXACA",
          "VERACRUZ DE IGNACIO DE LA LLAVE",
          "PUEBLA",
          "GUERRERO",
          "HIDALGO",
          "CAMPECHE",
          "NAYARIT",
          "YUCATÁN"
         ],
         "textposition": "top center",
         "type": "scatter",
         "x": [
          0.006896551724137931,
          0.007650273224043716,
          0.00694058856191005,
          0.005917159763313609,
          0.003289473684210526,
          0.008670520231213872,
          0.0041753653444676405,
          0.0022222222222222222,
          0.007711038961038961,
          0.003552397868561279,
          0.006625175667536639,
          0.007173601147776184,
          0.0021598272138228943,
          0,
          0.012903225806451613,
          0.00528169014084507,
          0.003816793893129771,
          0.002857142857142857,
          0.0038022813688212928,
          0.0106951871657754,
          0.0043541364296081275,
          0.006787330316742082,
          0.01556420233463035,
          0.009242144177449169,
          0.010256410256410256,
          0.004796163069544364,
          0.003281378178835111,
          0.010344827586206896,
          0.003430531732418525,
          0.015384615384615385,
          0.00423728813559322,
          0.0012706480304955528
         ],
         "xaxis": "x",
         "y": [
          15555.782689655174,
          13873.737295081968,
          13200.078692393115,
          13179.416242603551,
          13037.371809210526,
          12669.324759152216,
          12538.017526096033,
          11962.099166666667,
          11862.12791396104,
          11793.513641207815,
          11396.854748042562,
          11278.572410329985,
          10970.268164146868,
          10607.909719101122,
          10238.415193548388,
          10236.186338028168,
          10049.140553435116,
          9927.461121428572,
          9850.685817490496,
          9837.982941176471,
          9804.437053701016,
          9731.726470588235,
          9712.478793774319,
          9539.988890942699,
          9405.953897435897,
          9380.03285851319,
          9306.6893683347,
          9266.816551724138,
          9186.195214408233,
          8897.647907692308,
          8789.319406779661,
          8487.544027954256
         ],
         "yaxis": "y"
        }
       ],
       "layout": {
        "legend": {
         "tracegroupgap": 0
        },
        "template": {
         "data": {
          "bar": [
           {
            "error_x": {
             "color": "#2a3f5f"
            },
            "error_y": {
             "color": "#2a3f5f"
            },
            "marker": {
             "line": {
              "color": "#E5ECF6",
              "width": 0.5
             },
             "pattern": {
              "fillmode": "overlay",
              "size": 10,
              "solidity": 0.2
             }
            },
            "type": "bar"
           }
          ],
          "barpolar": [
           {
            "marker": {
             "line": {
              "color": "#E5ECF6",
              "width": 0.5
             },
             "pattern": {
              "fillmode": "overlay",
              "size": 10,
              "solidity": 0.2
             }
            },
            "type": "barpolar"
           }
          ],
          "carpet": [
           {
            "aaxis": {
             "endlinecolor": "#2a3f5f",
             "gridcolor": "white",
             "linecolor": "white",
             "minorgridcolor": "white",
             "startlinecolor": "#2a3f5f"
            },
            "baxis": {
             "endlinecolor": "#2a3f5f",
             "gridcolor": "white",
             "linecolor": "white",
             "minorgridcolor": "white",
             "startlinecolor": "#2a3f5f"
            },
            "type": "carpet"
           }
          ],
          "choropleth": [
           {
            "colorbar": {
             "outlinewidth": 0,
             "ticks": ""
            },
            "type": "choropleth"
           }
          ],
          "contour": [
           {
            "colorbar": {
             "outlinewidth": 0,
             "ticks": ""
            },
            "colorscale": [
             [
              0,
              "#0d0887"
             ],
             [
              0.1111111111111111,
              "#46039f"
             ],
             [
              0.2222222222222222,
              "#7201a8"
             ],
             [
              0.3333333333333333,
              "#9c179e"
             ],
             [
              0.4444444444444444,
              "#bd3786"
             ],
             [
              0.5555555555555556,
              "#d8576b"
             ],
             [
              0.6666666666666666,
              "#ed7953"
             ],
             [
              0.7777777777777778,
              "#fb9f3a"
             ],
             [
              0.8888888888888888,
              "#fdca26"
             ],
             [
              1,
              "#f0f921"
             ]
            ],
            "type": "contour"
           }
          ],
          "contourcarpet": [
           {
            "colorbar": {
             "outlinewidth": 0,
             "ticks": ""
            },
            "type": "contourcarpet"
           }
          ],
          "heatmap": [
           {
            "colorbar": {
             "outlinewidth": 0,
             "ticks": ""
            },
            "colorscale": [
             [
              0,
              "#0d0887"
             ],
             [
              0.1111111111111111,
              "#46039f"
             ],
             [
              0.2222222222222222,
              "#7201a8"
             ],
             [
              0.3333333333333333,
              "#9c179e"
             ],
             [
              0.4444444444444444,
              "#bd3786"
             ],
             [
              0.5555555555555556,
              "#d8576b"
             ],
             [
              0.6666666666666666,
              "#ed7953"
             ],
             [
              0.7777777777777778,
              "#fb9f3a"
             ],
             [
              0.8888888888888888,
              "#fdca26"
             ],
             [
              1,
              "#f0f921"
             ]
            ],
            "type": "heatmap"
           }
          ],
          "heatmapgl": [
           {
            "colorbar": {
             "outlinewidth": 0,
             "ticks": ""
            },
            "colorscale": [
             [
              0,
              "#0d0887"
             ],
             [
              0.1111111111111111,
              "#46039f"
             ],
             [
              0.2222222222222222,
              "#7201a8"
             ],
             [
              0.3333333333333333,
              "#9c179e"
             ],
             [
              0.4444444444444444,
              "#bd3786"
             ],
             [
              0.5555555555555556,
              "#d8576b"
             ],
             [
              0.6666666666666666,
              "#ed7953"
             ],
             [
              0.7777777777777778,
              "#fb9f3a"
             ],
             [
              0.8888888888888888,
              "#fdca26"
             ],
             [
              1,
              "#f0f921"
             ]
            ],
            "type": "heatmapgl"
           }
          ],
          "histogram": [
           {
            "marker": {
             "pattern": {
              "fillmode": "overlay",
              "size": 10,
              "solidity": 0.2
             }
            },
            "type": "histogram"
           }
          ],
          "histogram2d": [
           {
            "colorbar": {
             "outlinewidth": 0,
             "ticks": ""
            },
            "colorscale": [
             [
              0,
              "#0d0887"
             ],
             [
              0.1111111111111111,
              "#46039f"
             ],
             [
              0.2222222222222222,
              "#7201a8"
             ],
             [
              0.3333333333333333,
              "#9c179e"
             ],
             [
              0.4444444444444444,
              "#bd3786"
             ],
             [
              0.5555555555555556,
              "#d8576b"
             ],
             [
              0.6666666666666666,
              "#ed7953"
             ],
             [
              0.7777777777777778,
              "#fb9f3a"
             ],
             [
              0.8888888888888888,
              "#fdca26"
             ],
             [
              1,
              "#f0f921"
             ]
            ],
            "type": "histogram2d"
           }
          ],
          "histogram2dcontour": [
           {
            "colorbar": {
             "outlinewidth": 0,
             "ticks": ""
            },
            "colorscale": [
             [
              0,
              "#0d0887"
             ],
             [
              0.1111111111111111,
              "#46039f"
             ],
             [
              0.2222222222222222,
              "#7201a8"
             ],
             [
              0.3333333333333333,
              "#9c179e"
             ],
             [
              0.4444444444444444,
              "#bd3786"
             ],
             [
              0.5555555555555556,
              "#d8576b"
             ],
             [
              0.6666666666666666,
              "#ed7953"
             ],
             [
              0.7777777777777778,
              "#fb9f3a"
             ],
             [
              0.8888888888888888,
              "#fdca26"
             ],
             [
              1,
              "#f0f921"
             ]
            ],
            "type": "histogram2dcontour"
           }
          ],
          "mesh3d": [
           {
            "colorbar": {
             "outlinewidth": 0,
             "ticks": ""
            },
            "type": "mesh3d"
           }
          ],
          "parcoords": [
           {
            "line": {
             "colorbar": {
              "outlinewidth": 0,
              "ticks": ""
             }
            },
            "type": "parcoords"
           }
          ],
          "pie": [
           {
            "automargin": true,
            "type": "pie"
           }
          ],
          "scatter": [
           {
            "fillpattern": {
             "fillmode": "overlay",
             "size": 10,
             "solidity": 0.2
            },
            "type": "scatter"
           }
          ],
          "scatter3d": [
           {
            "line": {
             "colorbar": {
              "outlinewidth": 0,
              "ticks": ""
             }
            },
            "marker": {
             "colorbar": {
              "outlinewidth": 0,
              "ticks": ""
             }
            },
            "type": "scatter3d"
           }
          ],
          "scattercarpet": [
           {
            "marker": {
             "colorbar": {
              "outlinewidth": 0,
              "ticks": ""
             }
            },
            "type": "scattercarpet"
           }
          ],
          "scattergeo": [
           {
            "marker": {
             "colorbar": {
              "outlinewidth": 0,
              "ticks": ""
             }
            },
            "type": "scattergeo"
           }
          ],
          "scattergl": [
           {
            "marker": {
             "colorbar": {
              "outlinewidth": 0,
              "ticks": ""
             }
            },
            "type": "scattergl"
           }
          ],
          "scattermapbox": [
           {
            "marker": {
             "colorbar": {
              "outlinewidth": 0,
              "ticks": ""
             }
            },
            "type": "scattermapbox"
           }
          ],
          "scatterpolar": [
           {
            "marker": {
             "colorbar": {
              "outlinewidth": 0,
              "ticks": ""
             }
            },
            "type": "scatterpolar"
           }
          ],
          "scatterpolargl": [
           {
            "marker": {
             "colorbar": {
              "outlinewidth": 0,
              "ticks": ""
             }
            },
            "type": "scatterpolargl"
           }
          ],
          "scatterternary": [
           {
            "marker": {
             "colorbar": {
              "outlinewidth": 0,
              "ticks": ""
             }
            },
            "type": "scatterternary"
           }
          ],
          "surface": [
           {
            "colorbar": {
             "outlinewidth": 0,
             "ticks": ""
            },
            "colorscale": [
             [
              0,
              "#0d0887"
             ],
             [
              0.1111111111111111,
              "#46039f"
             ],
             [
              0.2222222222222222,
              "#7201a8"
             ],
             [
              0.3333333333333333,
              "#9c179e"
             ],
             [
              0.4444444444444444,
              "#bd3786"
             ],
             [
              0.5555555555555556,
              "#d8576b"
             ],
             [
              0.6666666666666666,
              "#ed7953"
             ],
             [
              0.7777777777777778,
              "#fb9f3a"
             ],
             [
              0.8888888888888888,
              "#fdca26"
             ],
             [
              1,
              "#f0f921"
             ]
            ],
            "type": "surface"
           }
          ],
          "table": [
           {
            "cells": {
             "fill": {
              "color": "#EBF0F8"
             },
             "line": {
              "color": "white"
             }
            },
            "header": {
             "fill": {
              "color": "#C8D4E3"
             },
             "line": {
              "color": "white"
             }
            },
            "type": "table"
           }
          ]
         },
         "layout": {
          "annotationdefaults": {
           "arrowcolor": "#2a3f5f",
           "arrowhead": 0,
           "arrowwidth": 1
          },
          "autotypenumbers": "strict",
          "coloraxis": {
           "colorbar": {
            "outlinewidth": 0,
            "ticks": ""
           }
          },
          "colorscale": {
           "diverging": [
            [
             0,
             "#8e0152"
            ],
            [
             0.1,
             "#c51b7d"
            ],
            [
             0.2,
             "#de77ae"
            ],
            [
             0.3,
             "#f1b6da"
            ],
            [
             0.4,
             "#fde0ef"
            ],
            [
             0.5,
             "#f7f7f7"
            ],
            [
             0.6,
             "#e6f5d0"
            ],
            [
             0.7,
             "#b8e186"
            ],
            [
             0.8,
             "#7fbc41"
            ],
            [
             0.9,
             "#4d9221"
            ],
            [
             1,
             "#276419"
            ]
           ],
           "sequential": [
            [
             0,
             "#0d0887"
            ],
            [
             0.1111111111111111,
             "#46039f"
            ],
            [
             0.2222222222222222,
             "#7201a8"
            ],
            [
             0.3333333333333333,
             "#9c179e"
            ],
            [
             0.4444444444444444,
             "#bd3786"
            ],
            [
             0.5555555555555556,
             "#d8576b"
            ],
            [
             0.6666666666666666,
             "#ed7953"
            ],
            [
             0.7777777777777778,
             "#fb9f3a"
            ],
            [
             0.8888888888888888,
             "#fdca26"
            ],
            [
             1,
             "#f0f921"
            ]
           ],
           "sequentialminus": [
            [
             0,
             "#0d0887"
            ],
            [
             0.1111111111111111,
             "#46039f"
            ],
            [
             0.2222222222222222,
             "#7201a8"
            ],
            [
             0.3333333333333333,
             "#9c179e"
            ],
            [
             0.4444444444444444,
             "#bd3786"
            ],
            [
             0.5555555555555556,
             "#d8576b"
            ],
            [
             0.6666666666666666,
             "#ed7953"
            ],
            [
             0.7777777777777778,
             "#fb9f3a"
            ],
            [
             0.8888888888888888,
             "#fdca26"
            ],
            [
             1,
             "#f0f921"
            ]
           ]
          },
          "colorway": [
           "#636efa",
           "#EF553B",
           "#00cc96",
           "#ab63fa",
           "#FFA15A",
           "#19d3f3",
           "#FF6692",
           "#B6E880",
           "#FF97FF",
           "#FECB52"
          ],
          "font": {
           "color": "#2a3f5f"
          },
          "geo": {
           "bgcolor": "white",
           "lakecolor": "white",
           "landcolor": "#E5ECF6",
           "showlakes": true,
           "showland": true,
           "subunitcolor": "white"
          },
          "hoverlabel": {
           "align": "left"
          },
          "hovermode": "closest",
          "mapbox": {
           "style": "light"
          },
          "paper_bgcolor": "white",
          "plot_bgcolor": "#E5ECF6",
          "polar": {
           "angularaxis": {
            "gridcolor": "white",
            "linecolor": "white",
            "ticks": ""
           },
           "bgcolor": "#E5ECF6",
           "radialaxis": {
            "gridcolor": "white",
            "linecolor": "white",
            "ticks": ""
           }
          },
          "scene": {
           "xaxis": {
            "backgroundcolor": "#E5ECF6",
            "gridcolor": "white",
            "gridwidth": 2,
            "linecolor": "white",
            "showbackground": true,
            "ticks": "",
            "zerolinecolor": "white"
           },
           "yaxis": {
            "backgroundcolor": "#E5ECF6",
            "gridcolor": "white",
            "gridwidth": 2,
            "linecolor": "white",
            "showbackground": true,
            "ticks": "",
            "zerolinecolor": "white"
           },
           "zaxis": {
            "backgroundcolor": "#E5ECF6",
            "gridcolor": "white",
            "gridwidth": 2,
            "linecolor": "white",
            "showbackground": true,
            "ticks": "",
            "zerolinecolor": "white"
           }
          },
          "shapedefaults": {
           "line": {
            "color": "#2a3f5f"
           }
          },
          "ternary": {
           "aaxis": {
            "gridcolor": "white",
            "linecolor": "white",
            "ticks": ""
           },
           "baxis": {
            "gridcolor": "white",
            "linecolor": "white",
            "ticks": ""
           },
           "bgcolor": "#E5ECF6",
           "caxis": {
            "gridcolor": "white",
            "linecolor": "white",
            "ticks": ""
           }
          },
          "title": {
           "x": 0.05
          },
          "xaxis": {
           "automargin": true,
           "gridcolor": "white",
           "linecolor": "white",
           "ticks": "",
           "title": {
            "standoff": 15
           },
           "zerolinecolor": "white",
           "zerolinewidth": 2
          },
          "yaxis": {
           "automargin": true,
           "gridcolor": "white",
           "linecolor": "white",
           "ticks": "",
           "title": {
            "standoff": 15
           },
           "zerolinecolor": "white",
           "zerolinewidth": 2
          }
         }
        },
        "title": {
         "font": {
          "size": 18
         },
         "text": "Relación entre Porcentaje de Pago y Ingreso Neto Promedio por Estado",
         "x": 0.5
        },
        "xaxis": {
         "anchor": "y",
         "domain": [
          0,
          1
         ],
         "title": {
          "text": "Pagado"
         }
        },
        "yaxis": {
         "anchor": "x",
         "domain": [
          0,
          1
         ],
         "title": {
          "text": "Ingreso Neto Numérico"
         }
        }
       }
      }
     },
     "metadata": {},
     "output_type": "display_data"
    }
   ],
   "source": [
    "import plotly.express as px\n",
    "import plotly.io as pio\n",
    "\n",
    "fig = px.scatter(\n",
    "    tabla_combinada,\n",
    "    x='Pagado',\n",
    "    y='Ingreso Neto Numérico',\n",
    "    text='Ciudad MX',  # Mostrar los nombres de los estados en el gráfico\n",
    "    title='Relación entre Porcentaje de Pago y Ingreso Neto Promedio por Estado',\n",
    "    labels={'Porcentaje Pago Promedio': 'Porcentaje de Pago (%)',\n",
    "            'Ingreso Neto Promedio': 'Ingreso Neto Promedio (MXN)'},\n",
    "    template='plotly'\n",
    ")\n",
    "\n",
    "# Personalizar diseño\n",
    "fig.update_traces(marker=dict(size=12, color='blue', opacity=0.8), textposition='top center')\n",
    "fig.update_layout(title_font_size=18, title_x=0.5)"
   ]
  },
  {
   "cell_type": "markdown",
   "metadata": {},
   "source": [
    "Si bien en la gráfica no se observa una tendencia, se pretende para el ejercicio encontrar alguna variable que me pueda decir cuál de las variables de todo el dataset puede tener alguna relación con el pago, esto para centrar la atención en estas variables a la hora de las aprobaciones de créditos."
   ]
  }
 ],
 "metadata": {
  "kernelspec": {
   "display_name": "Python 3",
   "language": "python",
   "name": "python3"
  },
  "language_info": {
   "codemirror_mode": {
    "name": "ipython",
    "version": 3
   },
   "file_extension": ".py",
   "mimetype": "text/x-python",
   "name": "python",
   "nbconvert_exporter": "python",
   "pygments_lexer": "ipython3",
   "version": "3.12.8"
  }
 },
 "nbformat": 4,
 "nbformat_minor": 2
}
